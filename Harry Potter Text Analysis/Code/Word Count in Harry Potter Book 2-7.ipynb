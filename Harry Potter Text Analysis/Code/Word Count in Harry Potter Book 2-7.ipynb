{
 "cells": [
  {
   "cell_type": "code",
   "execution_count": 3,
   "metadata": {
    "collapsed": false
   },
   "outputs": [
    {
     "name": "stdout",
     "output_type": "stream",
     "text": [
      "the elephants 4 cats\n"
     ]
    }
   ],
   "source": [
    "#** apply lower() and remove punctuation **\n",
    "import re\n",
    "def removePunctuation(text):\n",
    "    \"\"\"Removes punctuation, changes to lowercase, and strips leading and trailing spaces.\n",
    "    Note:\n",
    "        Only spaces, letters, and numbers should be retained.  Other characters should should be\n",
    "        eliminated. (e.g. it's becomes its)\n",
    "    Args:\n",
    "        text (str): A string.\n",
    "    Returns:\n",
    "        str: The cleaned up string.\n",
    "    \"\"\"\n",
    "    return re.sub('[^a-z| |0-9]', '', text.strip().lower())\n",
    "print removePunctuation(\"The Elephant's 4 cats. \")"
   ]
  },
  {
   "cell_type": "code",
   "execution_count": 4,
   "metadata": {
    "collapsed": false
   },
   "outputs": [
    {
     "name": "stdout",
     "output_type": "stream",
     "text": [
      "[u'chapter', u'one', u'the', u'worst', u'birthday']\n",
      "[(u'chapter', 1), (u'one', 1), (u'the', 1), (u'worst', 1), (u'birthday', 1)]\n"
     ]
    }
   ],
   "source": [
    "#count frequency of words in book 2\n",
    "book2words = sc.textFile(\"file:/home/training/Desktop/Harry_Potter/book2-Harry Potter And The Chamber Of Secrets.txt\").flatMap(lambda line: line.strip().split(\" \")).filter(lambda x: x != '')\n",
    "#apply punctuaion & lower function\n",
    "book2words = book2words.map(removePunctuation)\n",
    "#remove punctuation\n",
    "print book2words.take(5)\n",
    "\n",
    "#map to key-value pair\n",
    "book2words_1 = book2words.map(lambda word : (word,1))\n",
    "print book2words_1.take(5)\n"
   ]
  },
  {
   "cell_type": "code",
   "execution_count": 42,
   "metadata": {
    "collapsed": false
   },
   "outputs": [
    {
     "name": "stdout",
     "output_type": "stream",
     "text": [
      "[u'one', u'owl', u'post', u'harry', u'potter']\n",
      "[(u'one', 1), (u'owl', 1), (u'post', 1), (u'harry', 1), (u'potter', 1)]\n",
      "[u'chapter', u'one', u'', u'the', u'riddle']\n",
      "[(u'chapter', 1), (u'one', 1), (u'', 1), (u'the', 1), (u'riddle', 1)]\n",
      "[u'harry', u'potter', u'and', u'the', u'order']\n",
      "[(u'harry', 1), (u'potter', 1), (u'and', 1), (u'the', 1), (u'order', 1)]\n",
      "[u'chapter', u'1', u'the', u'other', u'minister']\n",
      "[(u'chapter', 1), (u'1', 1), (u'the', 1), (u'other', 1), (u'minister', 1)]\n",
      "[u'chapter', u'one', u'the', u'dark', u'lord']\n",
      "[(u'chapter', 1), (u'one', 1), (u'the', 1), (u'dark', 1), (u'lord', 1)]\n"
     ]
    }
   ],
   "source": [
    "#count frequency of words in book 3\n",
    "book3words = sc.textFile(\"file:/home/training/Desktop/Harry_Potter/Book3.Harry Potter and the Prisoner of Azkaban.txt\").flatMap(lambda line: line.strip().split(\" \")).filter(lambda x: x != '')\n",
    "#apply punctuaion & lower function\n",
    "book3words = book3words.map(removePunctuation)\n",
    "#remove punctuation\n",
    "print book3words.take(5)\n",
    "\n",
    "#map to key-value pair\n",
    "book3words_1 = book3words.map(lambda word : (word,1))\n",
    "print book3words_1.take(5)\n",
    "\n",
    "#####\n",
    "\n",
    "#count frequency of words in book 4\n",
    "book4words = sc.textFile(\"file:/home/training/Desktop/Harry_Potter/Book4-Harry Potter and the Goblet of Fire.txt\").flatMap(lambda line: line.strip().split(\" \")).filter(lambda x: x != '')\n",
    "#apply punctuaion & lower function\n",
    "book4words = book4words.map(removePunctuation)\n",
    "#remove punctuation\n",
    "print book4words.take(5)\n",
    "\n",
    "#map to key-value pair\n",
    "book4words_1 = book4words.map(lambda word : (word,1))\n",
    "print book4words_1.take(5)\n",
    "\n",
    "####\n",
    "\n",
    "#count frequency of words in book 5\n",
    "book5words = sc.textFile(\"file:/home/training/Desktop/Harry_Potter/5.Harry Potter and the Order of the Phoenix.txt\").flatMap(lambda line: line.strip().split(\" \")).filter(lambda x: x != '')\n",
    "#apply punctuaion & lower function\n",
    "book5words = book5words.map(removePunctuation)\n",
    "#remove punctuation\n",
    "print book5words.take(5)\n",
    "\n",
    "#map to key-value pair\n",
    "book5words_1 = book5words.map(lambda word : (word,1))\n",
    "print book5words_1.take(5)\n",
    "\n",
    "###\n",
    "\n",
    "#count frequency of words in book 6\n",
    "book6words = sc.textFile(\"file:/home/training/Desktop/Harry_Potter/Book6-Harry Potter and the Half-Blood Prince.txt\").flatMap(lambda line: line.strip().split(\" \")).filter(lambda x: x != '')\n",
    "#apply punctuaion & lower function\n",
    "book6words = book6words.map(removePunctuation)\n",
    "#remove punctuation\n",
    "print book6words.take(5)\n",
    "\n",
    "#map to key-value pair\n",
    "book6words_1 = book6words.map(lambda word : (word,1))\n",
    "print book6words_1.take(5)\n",
    "\n",
    "####\n",
    "\n",
    "#count frequency of words in book 7\n",
    "book7words = sc.textFile(\"file:/home/training/Desktop/Harry_Potter/Book7-Harry Potter and the Deathly Hallows.txt\").flatMap(lambda line: line.strip().split(\" \")).filter(lambda x: x != '')\n",
    "#apply punctuaion & lower function\n",
    "book7words = book7words.map(removePunctuation)\n",
    "#remove punctuation\n",
    "print book7words.take(5)\n",
    "\n",
    "#map to key-value pair\n",
    "book7words_1 = book7words.map(lambda word : (word,1))\n",
    "print book7words_1.take(5)\n",
    "\n",
    "\n"
   ]
  },
  {
   "cell_type": "code",
   "execution_count": 5,
   "metadata": {
    "collapsed": false
   },
   "outputs": [
    {
     "name": "stdout",
     "output_type": "stream",
     "text": [
      "[(u'', 1333), (u'writings', 1), (u'foul', 9), (u'four', 23), (u'rocketing', 1)]\n"
     ]
    }
   ],
   "source": [
    "#reduceByKey() operates by applying the function first within each partition on a per-key basis and then across the partitions, allowing it to scale efficiently to large datasets.\n",
    "book2words_1_agg = book2words_1.reduceByKey(lambda a,b : a+b)\n",
    "print book2words_1_agg.take(5)"
   ]
  },
  {
   "cell_type": "code",
   "execution_count": 43,
   "metadata": {
    "collapsed": false
   },
   "outputs": [
    {
     "name": "stdout",
     "output_type": "stream",
     "text": [
      "[(u'', 1166), (u'raining', 1), (u'both', 60), (u'yellow', 9), (u'four', 14)]\n",
      "[(u'', 4633), (u'yellow', 12), (u'four', 56), (u'rocketing', 1), (u'woods', 10)]\n",
      "[(u'', 8614), (u'raining', 4), (u'disparagingly', 2), (u'both', 123), (u'foul', 12)]\n",
      "[(u'', 3877), (u'hordes', 1), (u'both', 113), (u'yellow', 12), (u'four', 36)]\n",
      "[(u'', 1774), (u'raining', 7), (u'yellow', 11), (u'four', 36), (u'woods', 7)]\n"
     ]
    }
   ],
   "source": [
    "#reduceByKey() operates by applying the function first within each partition on a per-key basis and then across the partitions, allowing it to scale efficiently to large datasets.\n",
    "book3words_1_agg = book3words_1.reduceByKey(lambda a,b : a+b)\n",
    "print book3words_1_agg.take(5)\n",
    "\n",
    "#reduceByKey() operates by applying the function first within each partition on a per-key basis and then across the partitions, allowing it to scale efficiently to large datasets.\n",
    "book4words_1_agg = book4words_1.reduceByKey(lambda a,b : a+b)\n",
    "print book4words_1_agg.take(5)\n",
    "\n",
    "#reduceByKey() operates by applying the function first within each partition on a per-key basis and then across the partitions, allowing it to scale efficiently to large datasets.\n",
    "book5words_1_agg = book5words_1.reduceByKey(lambda a,b : a+b)\n",
    "print book5words_1_agg.take(5)\n",
    "\n",
    "#reduceByKey() operates by applying the function first within each partition on a per-key basis and then across the partitions, allowing it to scale efficiently to large datasets.\n",
    "book6words_1_agg = book6words_1.reduceByKey(lambda a,b : a+b)\n",
    "print book6words_1_agg.take(5)\n",
    "\n",
    "#reduceByKey() operates by applying the function first within each partition on a per-key basis and then across the partitions, allowing it to scale efficiently to large datasets.\n",
    "book7words_1_agg = book7words_1.reduceByKey(lambda a,b : a+b)\n",
    "print book7words_1_agg.take(5)"
   ]
  },
  {
   "cell_type": "code",
   "execution_count": 44,
   "metadata": {
    "collapsed": false
   },
   "outputs": [
    {
     "name": "stdout",
     "output_type": "stream",
     "text": [
      "86420\n",
      "7171\n",
      "106073\n",
      "7751\n",
      "195634\n",
      "10805\n",
      "266418\n",
      "13100\n",
      "175799\n",
      "11833\n",
      "199348\n",
      "11883\n"
     ]
    }
   ],
   "source": [
    "# count all words & distinct words - book 2\n",
    "print book2words.count()\n",
    "print book2words.distinct().count()\n",
    "\n",
    "# count all words & distinct words - book3\n",
    "print book3words.count()\n",
    "print book3words.distinct().count()\n",
    "\n",
    "# count all words & distinct words - book4\n",
    "print book4words.count()\n",
    "print book4words.distinct().count()\n",
    "\n",
    "# count all words & distinct words - book5\n",
    "print book5words.count()\n",
    "print book5words.distinct().count()\n",
    "\n",
    "# count all words & distinct words - book6\n",
    "print book6words.count()\n",
    "print book6words.distinct().count()\n",
    "\n",
    "# count all words & distinct words - book7\n",
    "print book7words.count()\n",
    "print book7words.distinct().count()"
   ]
  },
  {
   "cell_type": "code",
   "execution_count": 21,
   "metadata": {
    "collapsed": true
   },
   "outputs": [],
   "source": [
    "import pandas as pd"
   ]
  },
  {
   "cell_type": "code",
   "execution_count": 45,
   "metadata": {
    "collapsed": false
   },
   "outputs": [],
   "source": [
    "#count specific words - turn to dataframe\n",
    "book2df = pd.DataFrame(book2words_1_agg.collect())\n",
    "\n",
    "#count specific words - turn to dataframe\n",
    "book3df = pd.DataFrame(book3words_1_agg.collect())\n",
    "\n",
    "#count specific words - turn to dataframe\n",
    "book4df = pd.DataFrame(book4words_1_agg.collect())\n",
    "\n",
    "#count specific words - turn to dataframe\n",
    "book5df = pd.DataFrame(book5words_1_agg.collect())\n",
    "\n",
    "#count specific words - turn to dataframe\n",
    "book6df = pd.DataFrame(book6words_1_agg.collect())\n",
    "\n",
    "#count specific words - turn to dataframe\n",
    "book7df = pd.DataFrame(book7words_1_agg.collect())"
   ]
  },
  {
   "cell_type": "code",
   "execution_count": 23,
   "metadata": {
    "collapsed": false
   },
   "outputs": [
    {
     "data": {
      "text/html": [
       "<div>\n",
       "<table border=\"1\" class=\"dataframe\">\n",
       "  <thead>\n",
       "    <tr style=\"text-align: right;\">\n",
       "      <th></th>\n",
       "      <th>word</th>\n",
       "      <th>count</th>\n",
       "    </tr>\n",
       "  </thead>\n",
       "  <tbody>\n",
       "    <tr>\n",
       "      <th>0</th>\n",
       "      <td></td>\n",
       "      <td>1774</td>\n",
       "    </tr>\n",
       "    <tr>\n",
       "      <th>1</th>\n",
       "      <td>raining</td>\n",
       "      <td>7</td>\n",
       "    </tr>\n",
       "    <tr>\n",
       "      <th>2</th>\n",
       "      <td>yellow</td>\n",
       "      <td>11</td>\n",
       "    </tr>\n",
       "    <tr>\n",
       "      <th>3</th>\n",
       "      <td>four</td>\n",
       "      <td>36</td>\n",
       "    </tr>\n",
       "    <tr>\n",
       "      <th>4</th>\n",
       "      <td>woods</td>\n",
       "      <td>7</td>\n",
       "    </tr>\n",
       "  </tbody>\n",
       "</table>\n",
       "</div>"
      ],
      "text/plain": [
       "      word  count\n",
       "0            1774\n",
       "1  raining      7\n",
       "2   yellow     11\n",
       "3     four     36\n",
       "4    woods      7"
      ]
     },
     "execution_count": 23,
     "metadata": {},
     "output_type": "execute_result"
    }
   ],
   "source": [
    "#count - name columns - book2\n",
    "book2df.columns = ['word','count']\n",
    "book2df.head()"
   ]
  },
  {
   "cell_type": "code",
   "execution_count": 24,
   "metadata": {
    "collapsed": false
   },
   "outputs": [
    {
     "data": {
      "text/html": [
       "<div>\n",
       "<table border=\"1\" class=\"dataframe\">\n",
       "  <thead>\n",
       "    <tr style=\"text-align: right;\">\n",
       "      <th></th>\n",
       "      <th>word</th>\n",
       "      <th>count</th>\n",
       "    </tr>\n",
       "  </thead>\n",
       "  <tbody>\n",
       "    <tr>\n",
       "      <th>0</th>\n",
       "      <td></td>\n",
       "      <td>1166</td>\n",
       "    </tr>\n",
       "    <tr>\n",
       "      <th>1</th>\n",
       "      <td>raining</td>\n",
       "      <td>1</td>\n",
       "    </tr>\n",
       "    <tr>\n",
       "      <th>2</th>\n",
       "      <td>both</td>\n",
       "      <td>60</td>\n",
       "    </tr>\n",
       "    <tr>\n",
       "      <th>3</th>\n",
       "      <td>yellow</td>\n",
       "      <td>9</td>\n",
       "    </tr>\n",
       "    <tr>\n",
       "      <th>4</th>\n",
       "      <td>four</td>\n",
       "      <td>14</td>\n",
       "    </tr>\n",
       "  </tbody>\n",
       "</table>\n",
       "</div>"
      ],
      "text/plain": [
       "      word  count\n",
       "0            1166\n",
       "1  raining      1\n",
       "2     both     60\n",
       "3   yellow      9\n",
       "4     four     14"
      ]
     },
     "execution_count": 24,
     "metadata": {},
     "output_type": "execute_result"
    }
   ],
   "source": [
    "#count - name columns - book3\n",
    "book3df.columns = ['word','count']\n",
    "book3df.head()"
   ]
  },
  {
   "cell_type": "code",
   "execution_count": 25,
   "metadata": {
    "collapsed": false
   },
   "outputs": [
    {
     "data": {
      "text/html": [
       "<div>\n",
       "<table border=\"1\" class=\"dataframe\">\n",
       "  <thead>\n",
       "    <tr style=\"text-align: right;\">\n",
       "      <th></th>\n",
       "      <th>word</th>\n",
       "      <th>count</th>\n",
       "    </tr>\n",
       "  </thead>\n",
       "  <tbody>\n",
       "    <tr>\n",
       "      <th>0</th>\n",
       "      <td></td>\n",
       "      <td>4633</td>\n",
       "    </tr>\n",
       "    <tr>\n",
       "      <th>1</th>\n",
       "      <td>yellow</td>\n",
       "      <td>12</td>\n",
       "    </tr>\n",
       "    <tr>\n",
       "      <th>2</th>\n",
       "      <td>four</td>\n",
       "      <td>56</td>\n",
       "    </tr>\n",
       "    <tr>\n",
       "      <th>3</th>\n",
       "      <td>rocketing</td>\n",
       "      <td>1</td>\n",
       "    </tr>\n",
       "    <tr>\n",
       "      <th>4</th>\n",
       "      <td>woods</td>\n",
       "      <td>10</td>\n",
       "    </tr>\n",
       "  </tbody>\n",
       "</table>\n",
       "</div>"
      ],
      "text/plain": [
       "        word  count\n",
       "0              4633\n",
       "1     yellow     12\n",
       "2       four     56\n",
       "3  rocketing      1\n",
       "4      woods     10"
      ]
     },
     "execution_count": 25,
     "metadata": {},
     "output_type": "execute_result"
    }
   ],
   "source": [
    "#count - name columns - book4\n",
    "book4df.columns = ['word','count']\n",
    "book4df.head()"
   ]
  },
  {
   "cell_type": "code",
   "execution_count": 48,
   "metadata": {
    "collapsed": false
   },
   "outputs": [
    {
     "data": {
      "text/html": [
       "<div>\n",
       "<table border=\"1\" class=\"dataframe\">\n",
       "  <thead>\n",
       "    <tr style=\"text-align: right;\">\n",
       "      <th></th>\n",
       "      <th>word</th>\n",
       "      <th>count</th>\n",
       "    </tr>\n",
       "  </thead>\n",
       "  <tbody>\n",
       "    <tr>\n",
       "      <th>0</th>\n",
       "      <td></td>\n",
       "      <td>8614</td>\n",
       "    </tr>\n",
       "    <tr>\n",
       "      <th>1</th>\n",
       "      <td>raining</td>\n",
       "      <td>4</td>\n",
       "    </tr>\n",
       "    <tr>\n",
       "      <th>2</th>\n",
       "      <td>disparagingly</td>\n",
       "      <td>2</td>\n",
       "    </tr>\n",
       "    <tr>\n",
       "      <th>3</th>\n",
       "      <td>both</td>\n",
       "      <td>123</td>\n",
       "    </tr>\n",
       "    <tr>\n",
       "      <th>4</th>\n",
       "      <td>foul</td>\n",
       "      <td>12</td>\n",
       "    </tr>\n",
       "  </tbody>\n",
       "</table>\n",
       "</div>"
      ],
      "text/plain": [
       "            word  count\n",
       "0                  8614\n",
       "1        raining      4\n",
       "2  disparagingly      2\n",
       "3           both    123\n",
       "4           foul     12"
      ]
     },
     "execution_count": 48,
     "metadata": {},
     "output_type": "execute_result"
    }
   ],
   "source": [
    "#count - name columns - book5\n",
    "book5df.columns = ['word','count']\n",
    "book5df.head()"
   ]
  },
  {
   "cell_type": "code",
   "execution_count": 27,
   "metadata": {
    "collapsed": false
   },
   "outputs": [
    {
     "data": {
      "text/html": [
       "<div>\n",
       "<table border=\"1\" class=\"dataframe\">\n",
       "  <thead>\n",
       "    <tr style=\"text-align: right;\">\n",
       "      <th></th>\n",
       "      <th>word</th>\n",
       "      <th>count</th>\n",
       "    </tr>\n",
       "  </thead>\n",
       "  <tbody>\n",
       "    <tr>\n",
       "      <th>0</th>\n",
       "      <td></td>\n",
       "      <td>3877</td>\n",
       "    </tr>\n",
       "    <tr>\n",
       "      <th>1</th>\n",
       "      <td>hordes</td>\n",
       "      <td>1</td>\n",
       "    </tr>\n",
       "    <tr>\n",
       "      <th>2</th>\n",
       "      <td>both</td>\n",
       "      <td>113</td>\n",
       "    </tr>\n",
       "    <tr>\n",
       "      <th>3</th>\n",
       "      <td>yellow</td>\n",
       "      <td>12</td>\n",
       "    </tr>\n",
       "    <tr>\n",
       "      <th>4</th>\n",
       "      <td>four</td>\n",
       "      <td>36</td>\n",
       "    </tr>\n",
       "  </tbody>\n",
       "</table>\n",
       "</div>"
      ],
      "text/plain": [
       "     word  count\n",
       "0           3877\n",
       "1  hordes      1\n",
       "2    both    113\n",
       "3  yellow     12\n",
       "4    four     36"
      ]
     },
     "execution_count": 27,
     "metadata": {},
     "output_type": "execute_result"
    }
   ],
   "source": [
    "#count - name columns - book6\n",
    "book6df.columns = ['word','count']\n",
    "book6df.head()"
   ]
  },
  {
   "cell_type": "code",
   "execution_count": 28,
   "metadata": {
    "collapsed": false
   },
   "outputs": [
    {
     "data": {
      "text/html": [
       "<div>\n",
       "<table border=\"1\" class=\"dataframe\">\n",
       "  <thead>\n",
       "    <tr style=\"text-align: right;\">\n",
       "      <th></th>\n",
       "      <th>word</th>\n",
       "      <th>count</th>\n",
       "    </tr>\n",
       "  </thead>\n",
       "  <tbody>\n",
       "    <tr>\n",
       "      <th>0</th>\n",
       "      <td></td>\n",
       "      <td>1774</td>\n",
       "    </tr>\n",
       "    <tr>\n",
       "      <th>1</th>\n",
       "      <td>raining</td>\n",
       "      <td>7</td>\n",
       "    </tr>\n",
       "    <tr>\n",
       "      <th>2</th>\n",
       "      <td>yellow</td>\n",
       "      <td>11</td>\n",
       "    </tr>\n",
       "    <tr>\n",
       "      <th>3</th>\n",
       "      <td>four</td>\n",
       "      <td>36</td>\n",
       "    </tr>\n",
       "    <tr>\n",
       "      <th>4</th>\n",
       "      <td>woods</td>\n",
       "      <td>7</td>\n",
       "    </tr>\n",
       "  </tbody>\n",
       "</table>\n",
       "</div>"
      ],
      "text/plain": [
       "      word  count\n",
       "0            1774\n",
       "1  raining      7\n",
       "2   yellow     11\n",
       "3     four     36\n",
       "4    woods      7"
      ]
     },
     "execution_count": 28,
     "metadata": {},
     "output_type": "execute_result"
    }
   ],
   "source": [
    "#count - name columns - book7\n",
    "book7df.columns = ['word','count']\n",
    "book7df.head()"
   ]
  },
  {
   "cell_type": "code",
   "execution_count": 41,
   "metadata": {
    "collapsed": false
   },
   "outputs": [
    {
     "name": "stdout",
     "output_type": "stream",
     "text": [
      "              word  count\n",
      "505          snape     85\n",
      "704      voldemort     20\n",
      "881          harry   1508\n",
      "1449      hogwarts     91\n",
      "1553         lumos      2\n",
      "1564    dumbledore    141\n",
      "2692      hermione    290\n",
      "2999        malfoy    203\n",
      "5032       azkaban      9\n",
      "6249  expelliarmus      3\n",
      "6270           ron    653\n",
      "6794        hagrid    133\n"
     ]
    }
   ],
   "source": [
    "#book 2\n",
    "print book2df[(book2df['word'] == ('harry')) | (book2df['word'] =='ron')|(book2df['word']=='hermione') \\\n",
    "              | (book2df['word']=='hagrid')|(book2df['word']=='malfoy') | (book2df['word']=='snape') \\\n",
    "              |(book2df['word']=='dumbledore') | (book2df['word']== 'voldemort') | (book2df['word']=='hogwarts')\\\n",
    "              | (book2df['word']=='azkaban') |(book2df['word']=='accio') | (book2df['word']== 'expelliarmus')\\\n",
    "              |(book2df['word']== 'stupefy') | (book2df['word']== 'lumos') |(book2df['word']== 'imperio')\\\n",
    "              | (book2df['word']== 'crucio') |(book2df['word']== 'avada') | (book2df['word']== 'kedavra')]\n"
   ]
  },
  {
   "cell_type": "code",
   "execution_count": 40,
   "metadata": {
    "collapsed": false
   },
   "outputs": [
    {
     "name": "stdout",
     "output_type": "stream",
     "text": [
      "              word  count\n",
      "286          lumos      3\n",
      "593          snape    206\n",
      "834      voldemort     36\n",
      "1010         harry   1824\n",
      "1638      hogwarts     87\n",
      "1765    dumbledore    146\n",
      "2953      hermione    603\n",
      "3253        malfoy    146\n",
      "5464       azkaban     46\n",
      "6773  expelliarmus      3\n",
      "7027           ron    689\n",
      "7351        hagrid    206\n"
     ]
    }
   ],
   "source": [
    "#book 3\n",
    "print book3df[(book3df['word'] == ('harry')) | (book3df['word'] =='ron')|(book3df['word']=='hermione') \\\n",
    "              | (book3df['word']=='hagrid')|(book3df['word']=='malfoy') | (book3df['word']=='snape') \\\n",
    "              |(book3df['word']=='dumbledore') | (book3df['word']== 'voldemort') | (book3df['word']=='hogwarts')\\\n",
    "              | (book3df['word']=='azkaban') |(book3df['word']=='accio') | (book3df['word']== 'expelliarmus')\\\n",
    "              |(book3df['word']== 'stupefy') | (book3df['word']== 'lumos') |(book3df['word']== 'imperio')\\\n",
    "              | (book3df['word']== 'crucio') |(book3df['word']== 'avada') | (book3df['word']== 'kedavra')]\n"
   ]
  },
  {
   "cell_type": "code",
   "execution_count": 39,
   "metadata": {
    "collapsed": false
   },
   "outputs": [
    {
     "name": "stdout",
     "output_type": "stream",
     "text": [
      "               word  count\n",
      "117           accio      8\n",
      "397           lumos      4\n",
      "775           snape    209\n",
      "1093      voldemort    184\n",
      "1351          harry   2930\n",
      "1507        imperio      1\n",
      "2245       hogwarts    186\n",
      "2415     dumbledore    530\n",
      "3334        stupefy      9\n",
      "4052       hermione    825\n",
      "4350        kedavra      8\n",
      "4477         malfoy    119\n",
      "4804         crucio      5\n",
      "7583        azkaban     40\n",
      "8043          avada      9\n",
      "9420   expelliarmus      3\n",
      "9770            ron    980\n",
      "10232        hagrid    325\n"
     ]
    }
   ],
   "source": [
    "#book 4\n",
    "print book4df[(book4df['word'] == ('harry')) | (book4df['word'] =='ron')|(book4df['word']=='hermione') \\\n",
    "              | (book4df['word']=='hagrid')|(book4df['word']=='malfoy') | (book4df['word']=='snape') \\\n",
    "              |(book4df['word']=='dumbledore') | (book4df['word']== 'voldemort') | (book4df['word']=='hogwarts')\\\n",
    "              | (book4df['word']=='azkaban') |(book4df['word']=='accio') | (book4df['word']== 'expelliarmus')\\\n",
    "              |(book4df['word']== 'stupefy') | (book4df['word']== 'lumos') |(book4df['word']== 'imperio')\\\n",
    "              | (book4df['word']== 'crucio') |(book4df['word']== 'avada') | (book4df['word']== 'kedavra')]\n"
   ]
  },
  {
   "cell_type": "code",
   "execution_count": 49,
   "metadata": {
    "collapsed": false
   },
   "outputs": [
    {
     "name": "stdout",
     "output_type": "stream",
     "text": [
      "               word  count\n",
      "142           accio     10\n",
      "494           lumos      3\n",
      "983           snape    319\n",
      "1352      voldemort    161\n",
      "1678          harry   3758\n",
      "2742       hogwarts    155\n",
      "2952     dumbledore    568\n",
      "3048          avada      4\n",
      "3134   expelliarmus      7\n",
      "3166         crucio      4\n",
      "4094        stupefy      7\n",
      "4954       hermione   1223\n",
      "5323        kedavra      3\n",
      "9192        azkaban     42\n",
      "11421        malfoy    186\n",
      "11842           ron   1191\n",
      "12408        hagrid    398\n"
     ]
    }
   ],
   "source": [
    "#book 5\n",
    "print book5df[(book5df['word'] == ('harry')) | (book5df['word'] =='ron')|(book5df['word']=='hermione') \\\n",
    "              | (book5df['word']=='hagrid')|(book5df['word']=='malfoy') | (book5df['word']=='snape') \\\n",
    "              |(book5df['word']=='dumbledore') | (book5df['word']== 'voldemort') | (book5df['word']=='hogwarts')\\\n",
    "              | (book5df['word']=='azkaban') |(book5df['word']=='accio') | (book5df['word']== 'expelliarmus')\\\n",
    "              |(book5df['word']== 'stupefy') | (book5df['word']== 'lumos') |(book5df['word']== 'imperio')\\\n",
    "              | (book5df['word']== 'crucio') |(book5df['word']== 'avada') | (book5df['word']== 'kedavra')]\n"
   ]
  },
  {
   "cell_type": "code",
   "execution_count": 37,
   "metadata": {
    "collapsed": false
   },
   "outputs": [
    {
     "name": "stdout",
     "output_type": "stream",
     "text": [
      "               word  count\n",
      "139           accio      3\n",
      "449           lumos      3\n",
      "897           snape    338\n",
      "1497          harry   2617\n",
      "2650     dumbledore    885\n",
      "2854         crucio      2\n",
      "3008       hogwarts    137\n",
      "3693        stupefy      1\n",
      "3707       hermione    658\n",
      "4797        kedavra      3\n",
      "4940         malfoy    329\n",
      "7359      voldemort    197\n",
      "8866          avada      2\n",
      "10345  expelliarmus      2\n",
      "10620       azkaban     24\n",
      "10732           ron    799\n",
      "11227        hagrid    190\n"
     ]
    }
   ],
   "source": [
    "#book 6\n",
    "print book6df[(book6df['word'] == ('harry')) | (book6df['word'] =='ron')|(book6df['word']=='hermione') \\\n",
    "              | (book6df['word']=='hagrid')|(book6df['word']=='malfoy') | (book6df['word']=='snape') \\\n",
    "              |(book6df['word']=='dumbledore') | (book6df['word']== 'voldemort') | (book6df['word']=='hogwarts')\\\n",
    "              | (book6df['word']=='azkaban') |(book6df['word']=='accio') | (book6df['word']== 'expelliarmus')\\\n",
    "              |(book6df['word']== 'stupefy') | (book6df['word']== 'lumos') |(book6df['word']== 'imperio')\\\n",
    "              | (book6df['word']== 'crucio') |(book6df['word']== 'avada') | (book6df['word']== 'kedavra')]\n"
   ]
  },
  {
   "cell_type": "code",
   "execution_count": 36,
   "metadata": {
    "collapsed": false
   },
   "outputs": [
    {
     "name": "stdout",
     "output_type": "stream",
     "text": [
      "               word  count\n",
      "123           accio     12\n",
      "416           lumos      6\n",
      "858           snape    252\n",
      "1210      voldemort    358\n",
      "1496          harry   2886\n",
      "1657        imperio      5\n",
      "2474       hogwarts    133\n",
      "2666     dumbledore    483\n",
      "2749          avada      8\n",
      "2828   expelliarmus      8\n",
      "2857         crucio      4\n",
      "3709        stupefy      9\n",
      "4503       hermione   1111\n",
      "4821        kedavra      7\n",
      "8355        azkaban     17\n",
      "8678         malfoy     71\n",
      "9573            ron   1066\n",
      "11250        hagrid    151\n"
     ]
    }
   ],
   "source": [
    "#book 7\n",
    "print book7df[(book7df['word'] == ('harry')) | (book7df['word'] =='ron')|(book7df['word']=='hermione') \\\n",
    "              | (book7df['word']=='hagrid')|(book7df['word']=='malfoy') | (book7df['word']=='snape') \\\n",
    "              |(book7df['word']=='dumbledore') | (book7df['word']== 'voldemort') | (book7df['word']=='hogwarts')\\\n",
    "              | (book7df['word']=='azkaban') |(book7df['word']=='accio') | (book7df['word']== 'expelliarmus')\\\n",
    "              |(book7df['word']== 'stupefy') | (book7df['word']== 'lumos') |(book7df['word']== 'imperio')\\\n",
    "              | (book7df['word']== 'crucio') |(book7df['word']== 'avada') | (book7df['word']== 'kedavra')]\n"
   ]
  },
  {
   "cell_type": "code",
   "execution_count": 13,
   "metadata": {
    "collapsed": true
   },
   "outputs": [],
   "source": [
    "from pyspark import SparkConf, SparkContext\n",
    "from pyspark import sql\n",
    "sqlContext = sql.SQLContext(sc)"
   ]
  },
  {
   "cell_type": "code",
   "execution_count": 14,
   "metadata": {
    "collapsed": false
   },
   "outputs": [],
   "source": [
    "#use SQl to create DataFrame and do the same count\n",
    "sfpdDF2 = sqlContext.createDataFrame(book2words_1_agg, [\"word\", \"count\"])"
   ]
  },
  {
   "cell_type": "code",
   "execution_count": 15,
   "metadata": {
    "collapsed": false
   },
   "outputs": [
    {
     "name": "stdout",
     "output_type": "stream",
     "text": [
      "root\n",
      " |-- word: string (nullable = true)\n",
      " |-- count: long (nullable = true)\n",
      "\n",
      "word            count\n",
      "                1333 \n",
      "writings        1    \n",
      "foul            9    \n",
      "four            23   \n",
      "rocketing       1    \n",
      "woods           4    \n",
      "spiders         38   \n",
      "hanging         22   \n",
      "conjuring       1    \n",
      "marching        5    \n",
      "wizardry        7    \n",
      "fingernails     4    \n",
      "sputter         1    \n",
      "lord            21   \n",
      "flicking        2    \n",
      "sinking         6    \n",
      "shielding       1    \n",
      "reconstructions 1    \n",
      "yellow          6    \n",
      "screaming       3    \n",
      "wooden          7    \n",
      "wednesday       3    \n",
      "piling          2    \n",
      "succession      1    \n",
      "reliable        1    \n",
      "glassy          2    \n",
      "specially       2    \n",
      "tired           8    \n",
      "bacon           5    \n",
      "elegant         1    \n"
     ]
    }
   ],
   "source": [
    "sfpdDF2.printSchema()\n",
    "sfpdDF2.show(30)"
   ]
  },
  {
   "cell_type": "code",
   "execution_count": 17,
   "metadata": {
    "collapsed": false
   },
   "outputs": [
    {
     "name": "stdout",
     "output_type": "stream",
     "text": [
      "word  count\n",
      "harry 1508 \n"
     ]
    }
   ],
   "source": [
    "#count harry\n",
    "descDF2 = sfpdDF2.filter(sfpdDF2.word == 'harry')\n",
    "descDF2.show()"
   ]
  },
  {
   "cell_type": "code",
   "execution_count": null,
   "metadata": {
    "collapsed": true
   },
   "outputs": [],
   "source": []
  }
 ],
 "metadata": {
  "kernelspec": {
   "display_name": "Python 2",
   "language": "python",
   "name": "python2"
  },
  "language_info": {
   "codemirror_mode": {
    "name": "ipython",
    "version": 2
   },
   "file_extension": ".py",
   "mimetype": "text/x-python",
   "name": "python",
   "nbconvert_exporter": "python",
   "pygments_lexer": "ipython2",
   "version": "2.7.11"
  }
 },
 "nbformat": 4,
 "nbformat_minor": 0
}
