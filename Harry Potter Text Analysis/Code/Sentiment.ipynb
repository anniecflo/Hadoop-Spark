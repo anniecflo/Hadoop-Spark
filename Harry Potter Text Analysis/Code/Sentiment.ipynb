{
 "cells": [
  {
   "cell_type": "code",
   "execution_count": 6,
   "metadata": {
    "collapsed": false
   },
   "outputs": [
    {
     "name": "stdout",
     "output_type": "stream",
     "text": [
      "Collecting xlrd\n",
      "/usr/local/lib/python2.7/site-packages/pip/_vendor/requests/packages/urllib3/util/ssl_.py:318: SNIMissingWarning: An HTTPS request has been made, but the SNI (Subject Name Indication) extension to TLS is not available on this platform. This may cause the server to present an incorrect TLS certificate, which can cause validation failures. You can upgrade to a newer version of Python to solve this. For more information, see https://urllib3.readthedocs.io/en/latest/security.html#snimissingwarning.\n",
      "  SNIMissingWarning\n",
      "/usr/local/lib/python2.7/site-packages/pip/_vendor/requests/packages/urllib3/util/ssl_.py:122: InsecurePlatformWarning: A true SSLContext object is not available. This prevents urllib3 from configuring SSL appropriately and may cause certain SSL connections to fail. You can upgrade to a newer version of Python to solve this. For more information, see https://urllib3.readthedocs.io/en/latest/security.html#insecureplatformwarning.\n",
      "  InsecurePlatformWarning\n",
      "  Downloading xlrd-1.0.0.tar.gz (2.6MB)\n",
      "\u001b[K    100% |████████████████████████████████| 2.6MB 455kB/s \n",
      "\u001b[?25hInstalling collected packages: xlrd\n",
      "  Running setup.py install for xlrd ... \u001b[?25l-\b \b\\\b \bdone\n",
      "\u001b[?25hSuccessfully installed xlrd-1.0.0\n"
     ]
    }
   ],
   "source": [
    "!sudo pip install xlrd"
   ]
  },
  {
   "cell_type": "code",
   "execution_count": 7,
   "metadata": {
    "collapsed": false
   },
   "outputs": [
    {
     "name": "stdout",
     "output_type": "stream",
     "text": [
      "[nltk_data] Downloading package stopwords to\n",
      "[nltk_data]     /home/training/nltk_data...\n",
      "[nltk_data]   Package stopwords is already up-to-date!\n",
      "[nltk_data] Downloading package punkt to /home/training/nltk_data...\n",
      "[nltk_data]   Package punkt is already up-to-date!\n",
      "[nltk_data] Downloading package wordnet to /home/training/nltk_data...\n",
      "[nltk_data]   Package wordnet is already up-to-date!\n"
     ]
    },
    {
     "data": {
      "text/plain": [
       "True"
      ]
     },
     "execution_count": 7,
     "metadata": {},
     "output_type": "execute_result"
    }
   ],
   "source": [
    "import pandas as pd\n",
    "import re\n",
    "import nltk\n",
    "from nltk.tokenize import RegexpTokenizer\n",
    "from nltk.corpus import stopwords\n",
    "from nltk.stem import WordNetLemmatizer\n",
    "from nltk.sentiment.vader import SentimentIntensityAnalyzer\n",
    "nltk.download('stopwords')\n",
    "nltk.download('punkt')\n",
    "nltk.download('wordnet')\n",
    "\n"
   ]
  },
  {
   "cell_type": "code",
   "execution_count": 18,
   "metadata": {
    "collapsed": false
   },
   "outputs": [
    {
     "name": "stdout",
     "output_type": "stream",
     "text": [
      "Requirement already satisfied: vaderSentiment in /usr/local/lib/python2.7/site-packages\r\n"
     ]
    }
   ],
   "source": [
    "! sudo pip install vaderSentiment "
   ]
  },
  {
   "cell_type": "code",
   "execution_count": 19,
   "metadata": {
    "collapsed": false
   },
   "outputs": [
    {
     "name": "stdout",
     "output_type": "stream",
     "text": [
      "Requirement already satisfied: requests in /usr/local/lib/python2.7/site-packages\r\n"
     ]
    }
   ],
   "source": [
    "! sudo pip install requests"
   ]
  },
  {
   "cell_type": "code",
   "execution_count": 16,
   "metadata": {
    "collapsed": false
   },
   "outputs": [
    {
     "name": "stdout",
     "output_type": "stream",
     "text": [
      "Collecting sentiment\n",
      "/usr/local/lib/python2.7/site-packages/pip/_vendor/requests/packages/urllib3/util/ssl_.py:318: SNIMissingWarning: An HTTPS request has been made, but the SNI (Subject Name Indication) extension to TLS is not available on this platform. This may cause the server to present an incorrect TLS certificate, which can cause validation failures. You can upgrade to a newer version of Python to solve this. For more information, see https://urllib3.readthedocs.io/en/latest/security.html#snimissingwarning.\n",
      "  SNIMissingWarning\n",
      "/usr/local/lib/python2.7/site-packages/pip/_vendor/requests/packages/urllib3/util/ssl_.py:122: InsecurePlatformWarning: A true SSLContext object is not available. This prevents urllib3 from configuring SSL appropriately and may cause certain SSL connections to fail. You can upgrade to a newer version of Python to solve this. For more information, see https://urllib3.readthedocs.io/en/latest/security.html#insecureplatformwarning.\n",
      "  InsecurePlatformWarning\n",
      "\u001b[31m  Could not find a version that satisfies the requirement sentiment (from versions: )\u001b[0m\n",
      "\u001b[31mNo matching distribution found for sentiment\u001b[0m\n"
     ]
    }
   ],
   "source": [
    "! sudo pip install sentiment"
   ]
  },
  {
   "cell_type": "code",
   "execution_count": 55,
   "metadata": {
    "collapsed": false
   },
   "outputs": [
    {
     "name": "stdout",
     "output_type": "stream",
     "text": [
      "[nltk_data] Downloading package punkt to /home/training/nltk_data...\n",
      "[nltk_data]   Package punkt is already up-to-date!\n"
     ]
    }
   ],
   "source": [
    "import pandas as pd\n",
    "import sys\n",
    "nb_stdout = sys.stdout\n",
    "import numpy as np\n",
    "import nltk\n",
    "from nltk import tokenize\n",
    "nltk.download('punkt')\n",
    "\n",
    "from vaderSentiment.vaderSentiment import SentimentIntensityAnalyzer as vaderSentiment\n",
    "sys.stdout = nb_stdout\n"
   ]
  },
  {
   "cell_type": "code",
   "execution_count": 45,
   "metadata": {
    "collapsed": false
   },
   "outputs": [
    {
     "name": "stdout",
     "output_type": "stream",
     "text": [
      "Requirement already satisfied: vaderSentiment in /usr/local/lib/python2.7/site-packages\r\n"
     ]
    }
   ],
   "source": [
    "! sudo pip install vaderSentiment"
   ]
  },
  {
   "cell_type": "code",
   "execution_count": 64,
   "metadata": {
    "collapsed": false
   },
   "outputs": [
    {
     "data": {
      "text/html": [
       "<div>\n",
       "<table border=\"1\" class=\"dataframe\">\n",
       "  <thead>\n",
       "    <tr style=\"text-align: right;\">\n",
       "      <th></th>\n",
       "      <th>Book</th>\n",
       "      <th>Chapter</th>\n",
       "      <th>Text</th>\n",
       "    </tr>\n",
       "  </thead>\n",
       "  <tbody>\n",
       "    <tr>\n",
       "      <th>0</th>\n",
       "      <td>Book 1</td>\n",
       "      <td>Chapter 1</td>\n",
       "      <td>one\\r\\nthe boy who lived\\r\\nmr. and mrs. dursl...</td>\n",
       "    </tr>\n",
       "    <tr>\n",
       "      <th>1</th>\n",
       "      <td>Book 1</td>\n",
       "      <td>Chapter 2</td>\n",
       "      <td>two\\r\\nthe vanishing glass\\r\\nnearly ten years...</td>\n",
       "    </tr>\n",
       "    <tr>\n",
       "      <th>2</th>\n",
       "      <td>Book 1</td>\n",
       "      <td>Chapter 3</td>\n",
       "      <td>three\\r\\nthe letters from no one\\r\\nthe escape...</td>\n",
       "    </tr>\n",
       "    <tr>\n",
       "      <th>3</th>\n",
       "      <td>Book 1</td>\n",
       "      <td>Chapter 4</td>\n",
       "      <td>four\\r\\nthe keeper of the keys\\r\\nboom. they k...</td>\n",
       "    </tr>\n",
       "    <tr>\n",
       "      <th>4</th>\n",
       "      <td>Book 1</td>\n",
       "      <td>Chapter 5</td>\n",
       "      <td>five\\r\\ndiagon alley\\r\\nharry woke early the n...</td>\n",
       "    </tr>\n",
       "  </tbody>\n",
       "</table>\n",
       "</div>"
      ],
      "text/plain": [
       "     Book    Chapter                                               Text\n",
       "0  Book 1  Chapter 1  one\\r\\nthe boy who lived\\r\\nmr. and mrs. dursl...\n",
       "1  Book 1  Chapter 2  two\\r\\nthe vanishing glass\\r\\nnearly ten years...\n",
       "2  Book 1  Chapter 3  three\\r\\nthe letters from no one\\r\\nthe escape...\n",
       "3  Book 1  Chapter 4  four\\r\\nthe keeper of the keys\\r\\nboom. they k...\n",
       "4  Book 1  Chapter 5  five\\r\\ndiagon alley\\r\\nharry woke early the n..."
      ]
     },
     "execution_count": 64,
     "metadata": {},
     "output_type": "execute_result"
    }
   ],
   "source": [
    "#1 Import File\n",
    "text_file = open(\"/home/training/Desktop/Clean Files/book_1.txt\", \"r\")\n",
    "trial = text_file.read()\n",
    "\n",
    "#2 Split by chapter\n",
    "hp1 = re.split('CHAPTER\\s',trial)\n",
    "\n",
    "#3 Create a series equals to length\n",
    "len(hp1)\n",
    "hp1 = pd.Series(hp1,name=None)\n",
    "\n",
    "#4 Importing DFs for book-chapter\n",
    "hp1_df1 = pd.read_excel(\"/home/training/Desktop/DFs/DF1.xlsx\",header = None)\n",
    "hp1_df1.columns\n",
    "hp1_df1=hp1_df1.rename(columns={0:'Book', 1:'Chapter'})\n",
    "\n",
    "\n",
    "#5 Concating the dfs and data file\n",
    "book1 = pd.concat([hp1_df1,hp1],axis=1)\n",
    "\n",
    "#6 Renaming the headings\n",
    "book1=book1.rename(columns={'Book':'Book', 'Chapter':'Chapter',0:'Text'})\n",
    "\n",
    "#7 Removing stopwords\n",
    "stop = set(stopwords.words('english'))\n",
    "tokenizer = RegexpTokenizer(r'\\w+')\n",
    "lem = WordNetLemmatizer()\n",
    "\n",
    "#8 Adding tokenizer and some modifications to get the final DF\n",
    "book1['Text'] = book1['Text'].str.lower()\n",
    "#book1['Text'] = book1['Text'].apply(lambda words: tokenizer.tokenize(words))\n",
    "#book1['Text'] = book1['Text'].apply(lambda word: [lem.lemmatize(item) for item in word if item not in stop])\n",
    "\n",
    "\n",
    "#9 Looking at Sample\n",
    "book1.head()"
   ]
  },
  {
   "cell_type": "code",
   "execution_count": 75,
   "metadata": {
    "collapsed": false
   },
   "outputs": [],
   "source": [
    "book1[\"Text\"] = book1[\"Text\"].apply(lambda x: x.decode('unicode_escape').encode('ascii', 'ignore').strip())"
   ]
  },
  {
   "cell_type": "code",
   "execution_count": 78,
   "metadata": {
    "collapsed": false
   },
   "outputs": [
    {
     "data": {
      "text/html": [
       "<div>\n",
       "<table border=\"1\" class=\"dataframe\">\n",
       "  <thead>\n",
       "    <tr style=\"text-align: right;\">\n",
       "      <th></th>\n",
       "      <th>Book</th>\n",
       "      <th>Chapter</th>\n",
       "      <th>Text</th>\n",
       "    </tr>\n",
       "  </thead>\n",
       "  <tbody>\n",
       "    <tr>\n",
       "      <th>0</th>\n",
       "      <td>Book 1</td>\n",
       "      <td>Chapter 1</td>\n",
       "      <td>one\\r\\nthe boy who lived\\r\\nmr. and mrs. dursl...</td>\n",
       "    </tr>\n",
       "    <tr>\n",
       "      <th>1</th>\n",
       "      <td>Book 1</td>\n",
       "      <td>Chapter 2</td>\n",
       "      <td>two\\r\\nthe vanishing glass\\r\\nnearly ten years...</td>\n",
       "    </tr>\n",
       "    <tr>\n",
       "      <th>2</th>\n",
       "      <td>Book 1</td>\n",
       "      <td>Chapter 3</td>\n",
       "      <td>three\\r\\nthe letters from no one\\r\\nthe escape...</td>\n",
       "    </tr>\n",
       "    <tr>\n",
       "      <th>3</th>\n",
       "      <td>Book 1</td>\n",
       "      <td>Chapter 4</td>\n",
       "      <td>four\\r\\nthe keeper of the keys\\r\\nboom. they k...</td>\n",
       "    </tr>\n",
       "    <tr>\n",
       "      <th>4</th>\n",
       "      <td>Book 1</td>\n",
       "      <td>Chapter 5</td>\n",
       "      <td>five\\r\\ndiagon alley\\r\\nharry woke early the n...</td>\n",
       "    </tr>\n",
       "  </tbody>\n",
       "</table>\n",
       "</div>"
      ],
      "text/plain": [
       "     Book    Chapter                                               Text\n",
       "0  Book 1  Chapter 1  one\\r\\nthe boy who lived\\r\\nmr. and mrs. dursl...\n",
       "1  Book 1  Chapter 2  two\\r\\nthe vanishing glass\\r\\nnearly ten years...\n",
       "2  Book 1  Chapter 3  three\\r\\nthe letters from no one\\r\\nthe escape...\n",
       "3  Book 1  Chapter 4  four\\r\\nthe keeper of the keys\\r\\nboom. they k...\n",
       "4  Book 1  Chapter 5  five\\r\\ndiagon alley\\r\\nharry woke early the n..."
      ]
     },
     "execution_count": 78,
     "metadata": {},
     "output_type": "execute_result"
    }
   ],
   "source": [
    "book1.head()"
   ]
  },
  {
   "cell_type": "code",
   "execution_count": 77,
   "metadata": {
    "collapsed": true
   },
   "outputs": [],
   "source": [
    "book1[\"Text\"] = book1[\"Text\"].str.strip(r'\\\\r')"
   ]
  },
  {
   "cell_type": "code",
   "execution_count": 68,
   "metadata": {
    "collapsed": false
   },
   "outputs": [],
   "source": [
    "book1[\"Text\"] = book1[\"Text\"].map(lambda x: x.lstrip('\\n'))"
   ]
  },
  {
   "cell_type": "code",
   "execution_count": 86,
   "metadata": {
    "collapsed": false
   },
   "outputs": [],
   "source": [
    "book1 = book1.replace({r'\\r\\n': ''}, regex=True)"
   ]
  },
  {
   "cell_type": "code",
   "execution_count": 87,
   "metadata": {
    "collapsed": false
   },
   "outputs": [
    {
     "data": {
      "text/html": [
       "<div>\n",
       "<table border=\"1\" class=\"dataframe\">\n",
       "  <thead>\n",
       "    <tr style=\"text-align: right;\">\n",
       "      <th></th>\n",
       "      <th>Book</th>\n",
       "      <th>Chapter</th>\n",
       "      <th>Text</th>\n",
       "    </tr>\n",
       "  </thead>\n",
       "  <tbody>\n",
       "    <tr>\n",
       "      <th>0</th>\n",
       "      <td>Book 1</td>\n",
       "      <td>Chapter 1</td>\n",
       "      <td>onethe boy who livedmr. and mrs. dursley, of n...</td>\n",
       "    </tr>\n",
       "    <tr>\n",
       "      <th>1</th>\n",
       "      <td>Book 1</td>\n",
       "      <td>Chapter 2</td>\n",
       "      <td>twothe vanishing glassnearly ten years had pas...</td>\n",
       "    </tr>\n",
       "    <tr>\n",
       "      <th>2</th>\n",
       "      <td>Book 1</td>\n",
       "      <td>Chapter 3</td>\n",
       "      <td>threethe letters from no onethe escape of the ...</td>\n",
       "    </tr>\n",
       "    <tr>\n",
       "      <th>3</th>\n",
       "      <td>Book 1</td>\n",
       "      <td>Chapter 4</td>\n",
       "      <td>fourthe keeper of the keysboom. they knocked a...</td>\n",
       "    </tr>\n",
       "    <tr>\n",
       "      <th>4</th>\n",
       "      <td>Book 1</td>\n",
       "      <td>Chapter 5</td>\n",
       "      <td>fivediagon alleyharry woke early the next morn...</td>\n",
       "    </tr>\n",
       "  </tbody>\n",
       "</table>\n",
       "</div>"
      ],
      "text/plain": [
       "     Book    Chapter                                               Text\n",
       "0  Book 1  Chapter 1  onethe boy who livedmr. and mrs. dursley, of n...\n",
       "1  Book 1  Chapter 2  twothe vanishing glassnearly ten years had pas...\n",
       "2  Book 1  Chapter 3  threethe letters from no onethe escape of the ...\n",
       "3  Book 1  Chapter 4  fourthe keeper of the keysboom. they knocked a...\n",
       "4  Book 1  Chapter 5  fivediagon alleyharry woke early the next morn..."
      ]
     },
     "execution_count": 87,
     "metadata": {},
     "output_type": "execute_result"
    }
   ],
   "source": [
    "book1.head()"
   ]
  },
  {
   "cell_type": "code",
   "execution_count": 92,
   "metadata": {
    "collapsed": false
   },
   "outputs": [
    {
     "data": {
      "text/plain": [
       "str"
      ]
     },
     "execution_count": 92,
     "metadata": {},
     "output_type": "execute_result"
    }
   ],
   "source": [
    "type(book1[\"Text\"][0])"
   ]
  },
  {
   "cell_type": "code",
   "execution_count": 93,
   "metadata": {
    "collapsed": false
   },
   "outputs": [
    {
     "name": "stdout",
     "output_type": "stream",
     "text": [
      "The Boy Who Lived------------------------------------------------ {'neg': 0.0, 'neu': 1.0, 'pos': 0.0, 'compound': 0.0}\n",
      "The Vanishing Glass---------------------------------------------- {'neg': 0.0, 'neu': 1.0, 'pos': 0.0, 'compound': 0.0}\n",
      "The Letters from No One------------------------------------------ {'neg': 0.355, 'neu': 0.645, 'pos': 0.0, 'compound': -0.296}\n",
      "The Keeper of the Keys------------------------------------------- {'neg': 0.0, 'neu': 1.0, 'pos': 0.0, 'compound': 0.0}\n",
      "Diagon Alley----------------------------------------------------- {'neg': 0.0, 'neu': 1.0, 'pos': 0.0, 'compound': 0.0}\n",
      "The Journey from Platform Nine and Three-quarters---------------- {'neg': 0.0, 'neu': 1.0, 'pos': 0.0, 'compound': 0.0}\n",
      "The sorting Hat-------------------------------------------------- {'neg': 0.0, 'neu': 1.0, 'pos': 0.0, 'compound': 0.0}\n",
      "The Potions Master----------------------------------------------- {'neg': 0.0, 'neu': 1.0, 'pos': 0.0, 'compound': 0.0}\n",
      "The Midnight duel------------------------------------------------ {'neg': 0.0, 'neu': 1.0, 'pos': 0.0, 'compound': 0.0}\n",
      "Halloween-------------------------------------------------------- {'neg': 0.0, 'neu': 1.0, 'pos': 0.0, 'compound': 0.0}\n",
      "Quidditch-------------------------------------------------------- {'neg': 0.0, 'neu': 1.0, 'pos': 0.0, 'compound': 0.0}\n",
      "The Mirror of Erised--------------------------------------------- {'neg': 0.0, 'neu': 1.0, 'pos': 0.0, 'compound': 0.0}\n",
      "Nicolas Flamel--------------------------------------------------- {'neg': 0.0, 'neu': 1.0, 'pos': 0.0, 'compound': 0.0}\n",
      "Norbert The Norwegian Ridgeback---------------------------------- {'neg': 0.0, 'neu': 1.0, 'pos': 0.0, 'compound': 0.0}\n",
      "The Forbidden Forest--------------------------------------------- {'neg': 0.583, 'neu': 0.417, 'pos': 0.0, 'compound': -0.4215}\n",
      "Through the Trapdoor--------------------------------------------- {'neg': 0.0, 'neu': 1.0, 'pos': 0.0, 'compound': 0.0}\n",
      "The Man with Two Faces------------------------------------------- {'neg': 0.0, 'neu': 1.0, 'pos': 0.0, 'compound': 0.0}\n",
      "The Worst Brithday----------------------------------------------- {'neg': 0.672, 'neu': 0.328, 'pos': 0.0, 'compound': -0.6249}\n",
      "Dobby's Warning-------------------------------------------------- {'neg': 0.706, 'neu': 0.294, 'pos': 0.0, 'compound': -0.34}\n",
      "The Burrow------------------------------------------------------- {'neg': 0.0, 'neu': 1.0, 'pos': 0.0, 'compound': 0.0}\n",
      "At Flourish and Botts-------------------------------------------- {'neg': 0.0, 'neu': 1.0, 'pos': 0.0, 'compound': 0.0}\n",
      "The Whomping Willow---------------------------------------------- {'neg': 0.0, 'neu': 1.0, 'pos': 0.0, 'compound': 0.0}\n",
      "Gilderoy Lockhart------------------------------------------------ {'neg': 0.0, 'neu': 1.0, 'pos': 0.0, 'compound': 0.0}\n",
      "Mudbloods an Murmurs--------------------------------------------- {'neg': 0.0, 'neu': 1.0, 'pos': 0.0, 'compound': 0.0}\n",
      "The Deathday Party----------------------------------------------- {'neg': 0.0, 'neu': 0.426, 'pos': 0.574, 'compound': 0.4019}\n",
      "The writing on the Wall------------------------------------------ {'neg': 0.0, 'neu': 1.0, 'pos': 0.0, 'compound': 0.0}\n",
      "The Rogue Bludger------------------------------------------------ {'neg': 0.0, 'neu': 1.0, 'pos': 0.0, 'compound': 0.0}\n",
      "The Dueling Club------------------------------------------------- {'neg': 0.0, 'neu': 1.0, 'pos': 0.0, 'compound': 0.0}\n",
      "The Polyjuice Potion--------------------------------------------- {'neg': 0.0, 'neu': 1.0, 'pos': 0.0, 'compound': 0.0}\n",
      "The Very Secret Diary-------------------------------------------- {'neg': 0.0, 'neu': 1.0, 'pos': 0.0, 'compound': 0.0}\n",
      "Cornelius Fudge-------------------------------------------------- {'neg': 0.0, 'neu': 1.0, 'pos': 0.0, 'compound': 0.0}\n",
      "Aragog----------------------------------------------------------- {'neg': 0.0, 'neu': 1.0, 'pos': 0.0, 'compound': 0.0}\n",
      "The Chamber of Secrets------------------------------------------- {'neg': 0.0, 'neu': 1.0, 'pos': 0.0, 'compound': 0.0}\n",
      "The heir of Slytherin-------------------------------------------- {'neg': 0.0, 'neu': 1.0, 'pos': 0.0, 'compound': 0.0}\n",
      "Dobby's reward--------------------------------------------------- {'neg': 0.0, 'neu': 0.213, 'pos': 0.787, 'compound': 0.5719}\n",
      "Owl Post--------------------------------------------------------- {'neg': 0.0, 'neu': 1.0, 'pos': 0.0, 'compound': 0.0}\n",
      "Aunt Marge's Big Mistake----------------------------------------- {'neg': 0.444, 'neu': 0.556, 'pos': 0.0, 'compound': -0.34}\n",
      "The Knight Bus--------------------------------------------------- {'neg': 0.0, 'neu': 1.0, 'pos': 0.0, 'compound': 0.0}\n",
      "The Leaky Cauldron----------------------------------------------- {'neg': 0.0, 'neu': 1.0, 'pos': 0.0, 'compound': 0.0}\n",
      "The Dementor----------------------------------------------------- {'neg': 0.0, 'neu': 1.0, 'pos': 0.0, 'compound': 0.0}\n",
      "Talons and Tea Leaves-------------------------------------------- {'neg': 0.0, 'neu': 1.0, 'pos': 0.0, 'compound': 0.0}\n",
      "The Boggart in the Wardrobe-------------------------------------- {'neg': 0.0, 'neu': 1.0, 'pos': 0.0, 'compound': 0.0}\n",
      "Flight of the Fat Lady------------------------------------------- {'neg': 0.0, 'neu': 1.0, 'pos': 0.0, 'compound': 0.0}\n",
      "Grim Defeat------------------------------------------------------ {'neg': 1.0, 'neu': 0.0, 'pos': 0.0, 'compound': -0.7717}\n",
      "The Marauder's Map----------------------------------------------- {'neg': 0.0, 'neu': 1.0, 'pos': 0.0, 'compound': 0.0}\n",
      "The Firebolt----------------------------------------------------- {'neg': 0.0, 'neu': 1.0, 'pos': 0.0, 'compound': 0.0}\n",
      "The Patronus----------------------------------------------------- {'neg': 0.0, 'neu': 1.0, 'pos': 0.0, 'compound': 0.0}\n",
      "Gryffindor versus Ravenclaw-------------------------------------- {'neg': 0.0, 'neu': 1.0, 'pos': 0.0, 'compound': 0.0}\n",
      "Snape's Grudge--------------------------------------------------- {'neg': 0.0, 'neu': 1.0, 'pos': 0.0, 'compound': 0.0}\n",
      "The Quidditch Final---------------------------------------------- {'neg': 0.0, 'neu': 1.0, 'pos': 0.0, 'compound': 0.0}\n",
      "Professor Trelawney's Prediction--------------------------------- {'neg': 0.0, 'neu': 1.0, 'pos': 0.0, 'compound': 0.0}\n",
      "Cat, Rat and Dog------------------------------------------------- {'neg': 0.0, 'neu': 1.0, 'pos': 0.0, 'compound': 0.0}\n",
      "Moony, Wormtail, Padfoot and Prongs------------------------------ {'neg': 0.0, 'neu': 1.0, 'pos': 0.0, 'compound': 0.0}\n",
      "The Servant of Lord Voldemort------------------------------------ {'neg': 0.0, 'neu': 1.0, 'pos': 0.0, 'compound': 0.0}\n",
      "The Dementor's Kiss---------------------------------------------- {'neg': 0.0, 'neu': 0.417, 'pos': 0.583, 'compound': 0.4215}\n",
      "Hermione's Secret------------------------------------------------ {'neg': 0.0, 'neu': 1.0, 'pos': 0.0, 'compound': 0.0}\n",
      "Owl Post Again--------------------------------------------------- {'neg': 0.0, 'neu': 1.0, 'pos': 0.0, 'compound': 0.0}\n",
      "he Riddle House-------------------------------------------------- {'neg': 0.0, 'neu': 1.0, 'pos': 0.0, 'compound': 0.0}\n",
      "he scar---------------------------------------------------------- {'neg': 0.0, 'neu': 1.0, 'pos': 0.0, 'compound': 0.0}\n",
      "he Invitation---------------------------------------------------- {'neg': 0.0, 'neu': 1.0, 'pos': 0.0, 'compound': 0.0}\n",
      "ack to The Burrow------------------------------------------------ {'neg': 0.0, 'neu': 1.0, 'pos': 0.0, 'compound': 0.0}\n",
      "easley's Wizard Wheezes------------------------------------------ {'neg': 0.0, 'neu': 1.0, 'pos': 0.0, 'compound': 0.0}\n",
      "he Portkey------------------------------------------------------- {'neg': 0.0, 'neu': 1.0, 'pos': 0.0, 'compound': 0.0}\n",
      "agman and Crouch------------------------------------------------- {'neg': 0.0, 'neu': 1.0, 'pos': 0.0, 'compound': 0.0}\n",
      "he Quidditch World Cup------------------------------------------- {'neg': 0.0, 'neu': 1.0, 'pos': 0.0, 'compound': 0.0}\n",
      "he Dark Mark----------------------------------------------------- {'neg': 0.0, 'neu': 1.0, 'pos': 0.0, 'compound': 0.0}\n",
      "Mayhem at the Ministery------------------------------------------ {'neg': 0.0, 'neu': 1.0, 'pos': 0.0, 'compound': 0.0}\n",
      "Aboard the Hogwarts Express-------------------------------------- {'neg': 0.0, 'neu': 0.732, 'pos': 0.268, 'compound': 0.0258}\n",
      "The Triwizard Tournament----------------------------------------- {'neg': 0.0, 'neu': 1.0, 'pos': 0.0, 'compound': 0.0}\n",
      "Mad-Eye Moody---------------------------------------------------- {'neg': 0.714, 'neu': 0.286, 'pos': 0.0, 'compound': -0.3612}\n",
      "The Unforgivable Curses------------------------------------------ {'neg': 0.0, 'neu': 1.0, 'pos': 0.0, 'compound': 0.0}\n",
      "Beauxbatons and Durmstrang--------------------------------------- {'neg': 0.0, 'neu': 1.0, 'pos': 0.0, 'compound': 0.0}\n",
      "The Goblet of Fire----------------------------------------------- {'neg': 0.444, 'neu': 0.556, 'pos': 0.0, 'compound': -0.34}\n",
      "The Four Champions----------------------------------------------- {'neg': 0.0, 'neu': 0.37, 'pos': 0.63, 'compound': 0.5267}\n",
      "The Weighing of the Wands---------------------------------------- {'neg': 0.0, 'neu': 1.0, 'pos': 0.0, 'compound': 0.0}\n",
      "The Hungarian Horntail------------------------------------------- {'neg': 0.0, 'neu': 1.0, 'pos': 0.0, 'compound': 0.0}\n",
      "The First Task--------------------------------------------------- {'neg': 0.0, 'neu': 1.0, 'pos': 0.0, 'compound': 0.0}\n",
      "The House-Elf Liberation Front----------------------------------- {'neg': 0.0, 'neu': 1.0, 'pos': 0.0, 'compound': 0.0}\n",
      "The Unexpected Task---------------------------------------------- {'neg': 0.0, 'neu': 1.0, 'pos': 0.0, 'compound': 0.0}\n",
      "The Yule Ball---------------------------------------------------- {'neg': 0.0, 'neu': 1.0, 'pos': 0.0, 'compound': 0.0}\n",
      "Rita Skeeter's Scoop--------------------------------------------- {'neg': 0.0, 'neu': 0.556, 'pos': 0.444, 'compound': 0.1531}\n",
      "The Egg and the Eye---------------------------------------------- {'neg': 0.0, 'neu': 1.0, 'pos': 0.0, 'compound': 0.0}\n",
      "The Second Task-------------------------------------------------- {'neg': 0.0, 'neu': 1.0, 'pos': 0.0, 'compound': 0.0}\n",
      "Padfoot Returns-------------------------------------------------- {'neg': 0.0, 'neu': 1.0, 'pos': 0.0, 'compound': 0.0}\n",
      "The Madness of Mr Crouch----------------------------------------- {'neg': 0.42, 'neu': 0.58, 'pos': 0.0, 'compound': -0.4404}\n",
      "The Dream-------------------------------------------------------- {'neg': 0.0, 'neu': 0.333, 'pos': 0.667, 'compound': 0.25}\n",
      "The Pensieve----------------------------------------------------- {'neg': 0.0, 'neu': 1.0, 'pos': 0.0, 'compound': 0.0}\n",
      "The Third Task--------------------------------------------------- {'neg': 0.0, 'neu': 1.0, 'pos': 0.0, 'compound': 0.0}\n",
      "Flesh, Blood and Bone-------------------------------------------- {'neg': 0.0, 'neu': 1.0, 'pos': 0.0, 'compound': 0.0}\n",
      "The Death Eaters------------------------------------------------- {'neg': 0.661, 'neu': 0.339, 'pos': 0.0, 'compound': -0.5994}\n",
      "Priori Incantatem------------------------------------------------ {'neg': 0.0, 'neu': 1.0, 'pos': 0.0, 'compound': 0.0}\n",
      "Veritaserum------------------------------------------------------ {'neg': 0.0, 'neu': 1.0, 'pos': 0.0, 'compound': 0.0}\n",
      "The Parting of the Ways------------------------------------------ {'neg': 0.0, 'neu': 1.0, 'pos': 0.0, 'compound': 0.0}\n",
      "The Beginning---------------------------------------------------- {'neg': 0.0, 'neu': 1.0, 'pos': 0.0, 'compound': 0.0}\n",
      "Dudley Demented-------------------------------------------------- {'neg': 0.0, 'neu': 1.0, 'pos': 0.0, 'compound': 0.0}\n",
      "A peck of Owls--------------------------------------------------- {'neg': 0.0, 'neu': 1.0, 'pos': 0.0, 'compound': 0.0}\n",
      "The advance Guard------------------------------------------------ {'neg': 0.0, 'neu': 1.0, 'pos': 0.0, 'compound': 0.0}\n",
      "Number Twelve - Grimmauld Place---------------------------------- {'neg': 0.0, 'neu': 0.698, 'pos': 0.302, 'compound': 0.0772}\n",
      "The Order of the Phoenix----------------------------------------- {'neg': 0.0, 'neu': 1.0, 'pos': 0.0, 'compound': 0.0}\n",
      "The Noble and Most Ancient House of Black------------------------ {'neg': 0.0, 'neu': 0.7, 'pos': 0.3, 'compound': 0.4588}\n",
      "The Ministry of Magic-------------------------------------------- {'neg': 0.0, 'neu': 1.0, 'pos': 0.0, 'compound': 0.0}\n",
      "The Hearing------------------------------------------------------ {'neg': 0.0, 'neu': 1.0, 'pos': 0.0, 'compound': 0.0}\n",
      "The Woes of Mrs Weasly------------------------------------------- {'neg': 0.42, 'neu': 0.58, 'pos': 0.0, 'compound': -0.4404}\n",
      "Luna Lovegood---------------------------------------------------- {'neg': 0.0, 'neu': 1.0, 'pos': 0.0, 'compound': 0.0}\n",
      "The Sorting Hat's New Song--------------------------------------- {'neg': 0.0, 'neu': 1.0, 'pos': 0.0, 'compound': 0.0}\n",
      "Professor Umbridge----------------------------------------------- {'neg': 0.0, 'neu': 1.0, 'pos': 0.0, 'compound': 0.0}\n",
      "Detention with Dolores------------------------------------------- {'neg': 0.556, 'neu': 0.444, 'pos': 0.0, 'compound': -0.3612}\n",
      "Percy and Padfoot------------------------------------------------ {'neg': 0.0, 'neu': 1.0, 'pos': 0.0, 'compound': 0.0}\n",
      "The Hogwarts High Inquisitor------------------------------------- {'neg': 0.0, 'neu': 1.0, 'pos': 0.0, 'compound': 0.0}\n",
      "The Hog's Head--------------------------------------------------- {'neg': 0.0, 'neu': 1.0, 'pos': 0.0, 'compound': 0.0}\n",
      "Educational Decree NumberTwenty-four----------------------------- {'neg': 0.0, 'neu': 1.0, 'pos': 0.0, 'compound': 0.0}\n",
      "Dumbledore's Army------------------------------------------------ {'neg': 0.0, 'neu': 1.0, 'pos': 0.0, 'compound': 0.0}\n",
      "The Lion and the Serpent----------------------------------------- {'neg': 0.0, 'neu': 1.0, 'pos': 0.0, 'compound': 0.0}\n",
      "Hagrid's Tale---------------------------------------------------- {'neg': 0.0, 'neu': 1.0, 'pos': 0.0, 'compound': 0.0}\n",
      "The Eye of the Snake--------------------------------------------- {'neg': 0.0, 'neu': 1.0, 'pos': 0.0, 'compound': 0.0}\n",
      "St Mungo's Hospital---------------------------------------------- {'neg': 0.0, 'neu': 1.0, 'pos': 0.0, 'compound': 0.0}\n",
      "Christmas on the Closed Ward------------------------------------- {'neg': 0.0, 'neu': 1.0, 'pos': 0.0, 'compound': 0.0}\n",
      "Occlumency------------------------------------------------------- {'neg': 0.0, 'neu': 1.0, 'pos': 0.0, 'compound': 0.0}\n",
      "The Beetle at Bay------------------------------------------------ {'neg': 0.0, 'neu': 1.0, 'pos': 0.0, 'compound': 0.0}\n",
      "Seen and Unforeseen---------------------------------------------- {'neg': 0.0, 'neu': 1.0, 'pos': 0.0, 'compound': 0.0}\n",
      "The Centaur and the Sneak---------------------------------------- {'neg': 0.0, 'neu': 1.0, 'pos': 0.0, 'compound': 0.0}\n",
      "Snape's Worst Memory--------------------------------------------- {'neg': 0.672, 'neu': 0.328, 'pos': 0.0, 'compound': -0.6249}\n",
      "Careers Advice--------------------------------------------------- {'neg': 0.0, 'neu': 1.0, 'pos': 0.0, 'compound': 0.0}\n",
      "Grawp------------------------------------------------------------ {'neg': 0.0, 'neu': 1.0, 'pos': 0.0, 'compound': 0.0}\n",
      "OWLs------------------------------------------------------------- {'neg': 0.0, 'neu': 1.0, 'pos': 0.0, 'compound': 0.0}\n",
      "Out of the Fire-------------------------------------------------- {'neg': 0.444, 'neu': 0.556, 'pos': 0.0, 'compound': -0.34}\n",
      "Fight and Flight------------------------------------------------- {'neg': 0.565, 'neu': 0.435, 'pos': 0.0, 'compound': -0.3818}\n",
      "The Department of Mysteries-------------------------------------- {'neg': 0.0, 'neu': 1.0, 'pos': 0.0, 'compound': 0.0}\n",
      "Beyond the Veil-------------------------------------------------- {'neg': 0.0, 'neu': 1.0, 'pos': 0.0, 'compound': 0.0}\n",
      "The Only One He Ever Feared-------------------------------------- {'neg': 0.39, 'neu': 0.61, 'pos': 0.0, 'compound': -0.4939}\n",
      "The Lost Prophecy------------------------------------------------ {'neg': 0.535, 'neu': 0.465, 'pos': 0.0, 'compound': -0.3182}\n",
      "The Second War Begins-------------------------------------------- {'neg': 0.565, 'neu': 0.435, 'pos': 0.0, 'compound': -0.5994}\n",
      "The Other Minister----------------------------------------------- {'neg': 0.0, 'neu': 1.0, 'pos': 0.0, 'compound': 0.0}\n",
      "Spinner's End---------------------------------------------------- {'neg': 0.0, 'neu': 1.0, 'pos': 0.0, 'compound': 0.0}\n",
      "Will and Won't--------------------------------------------------- {'neg': 0.0, 'neu': 1.0, 'pos': 0.0, 'compound': 0.0}\n",
      "Horace Slughorn-------------------------------------------------- {'neg': 0.0, 'neu': 1.0, 'pos': 0.0, 'compound': 0.0}\n",
      "An Excess of Phlegm---------------------------------------------- {'neg': 0.0, 'neu': 1.0, 'pos': 0.0, 'compound': 0.0}\n",
      "Draco's Detour--------------------------------------------------- {'neg': 0.0, 'neu': 1.0, 'pos': 0.0, 'compound': 0.0}\n",
      "The Slug Club---------------------------------------------------- {'neg': 0.0, 'neu': 1.0, 'pos': 0.0, 'compound': 0.0}\n",
      "Snape Victorious------------------------------------------------- {'neg': 0.0, 'neu': 1.0, 'pos': 0.0, 'compound': 0.0}\n",
      "The Half-Blood Prince-------------------------------------------- {'neg': 0.0, 'neu': 1.0, 'pos': 0.0, 'compound': 0.0}\n",
      "The House of Gaunt----------------------------------------------- {'neg': 0.0, 'neu': 1.0, 'pos': 0.0, 'compound': 0.0}\n",
      "Hermione's Helping Hand------------------------------------------ {'neg': 0.0, 'neu': 0.156, 'pos': 0.844, 'compound': 0.6597}\n",
      "Silver and Opals------------------------------------------------- {'neg': 0.0, 'neu': 1.0, 'pos': 0.0, 'compound': 0.0}\n",
      "The Secret Riddle------------------------------------------------ {'neg': 0.0, 'neu': 1.0, 'pos': 0.0, 'compound': 0.0}\n",
      "Felix Felicis---------------------------------------------------- {'neg': 0.0, 'neu': 1.0, 'pos': 0.0, 'compound': 0.0}\n",
      "The Unbreakable Vow---------------------------------------------- {'neg': 0.0, 'neu': 1.0, 'pos': 0.0, 'compound': 0.0}\n",
      "A Very Frosty Christmas------------------------------------------ {'neg': 0.0, 'neu': 1.0, 'pos': 0.0, 'compound': 0.0}\n",
      "A Sluggish Memory------------------------------------------------ {'neg': 0.73, 'neu': 0.27, 'pos': 0.0, 'compound': -0.4019}\n",
      "Birthday Surprises----------------------------------------------- {'neg': 0.0, 'neu': 0.345, 'pos': 0.655, 'compound': 0.2263}\n",
      "Elf Tails-------------------------------------------------------- {'neg': 0.0, 'neu': 1.0, 'pos': 0.0, 'compound': 0.0}\n",
      "Lord Voldemort's Request----------------------------------------- {'neg': 0.0, 'neu': 1.0, 'pos': 0.0, 'compound': 0.0}\n",
      "The Unknowable Room---------------------------------------------- {'neg': 0.0, 'neu': 1.0, 'pos': 0.0, 'compound': 0.0}\n",
      "After the Burial------------------------------------------------- {'neg': 0.0, 'neu': 1.0, 'pos': 0.0, 'compound': 0.0}\n",
      "Horcruxes-------------------------------------------------------- {'neg': 0.0, 'neu': 1.0, 'pos': 0.0, 'compound': 0.0}\n",
      "Sectumsempra----------------------------------------------------- {'neg': 0.0, 'neu': 1.0, 'pos': 0.0, 'compound': 0.0}\n",
      "The Seer Overhead------------------------------------------------ {'neg': 0.0, 'neu': 1.0, 'pos': 0.0, 'compound': 0.0}\n",
      "The Cave--------------------------------------------------------- {'neg': 0.0, 'neu': 1.0, 'pos': 0.0, 'compound': 0.0}\n",
      "The Lightning-Struck Tower--------------------------------------- {'neg': 0.0, 'neu': 1.0, 'pos': 0.0, 'compound': 0.0}\n",
      "Flight of the Prince--------------------------------------------- {'neg': 0.0, 'neu': 1.0, 'pos': 0.0, 'compound': 0.0}\n",
      "The Phoenix Lament----------------------------------------------- {'neg': 0.6, 'neu': 0.4, 'pos': 0.0, 'compound': -0.4588}\n",
      "The White Tomb--------------------------------------------------- {'neg': 0.0, 'neu': 1.0, 'pos': 0.0, 'compound': 0.0}\n"
     ]
    }
   ],
   "source": [
    "#sentiment by chapter names for whole series\n",
    "\n",
    "sentences = [\"The Boy Who Lived\",\n",
    "\"The Vanishing Glass\",\n",
    "\"The Letters from No One\",\n",
    "\"The Keeper of the Keys\",\n",
    "\"Diagon Alley\",\n",
    "\"The Journey from Platform Nine and Three-quarters\",\n",
    "\"The sorting Hat\",\n",
    "\"The Potions Master\",\n",
    "\"The Midnight duel\",\n",
    "\"Halloween\",\n",
    "\"Quidditch\",\n",
    "\"The Mirror of Erised\",\n",
    "\"Nicolas Flamel\",\n",
    "\"Norbert The Norwegian Ridgeback\",\n",
    "\"The Forbidden Forest\",\n",
    "\"Through the Trapdoor\",\n",
    "\"The Man with Two Faces\",\n",
    "\"The Worst Brithday\",\n",
    "\"Dobby's Warning\",\n",
    "\"The Burrow\",\n",
    "\"At Flourish and Botts\",\n",
    "\"The Whomping Willow\",\n",
    "\"Gilderoy Lockhart\",\n",
    "\"Mudbloods an Murmurs\",\n",
    "\"The Deathday Party\",\n",
    "\"The writing on the Wall\",\n",
    "\"The Rogue Bludger\",\n",
    "\"The Dueling Club\",\n",
    "\"The Polyjuice Potion\",\n",
    "\"The Very Secret Diary\",\n",
    "\"Cornelius Fudge\",\n",
    "\"Aragog\",\n",
    "\"The Chamber of Secrets\",\n",
    "\"The heir of Slytherin\",\n",
    "\"Dobby's reward\",\n",
    "\"Owl Post\",\n",
    "\"Aunt Marge's Big Mistake\",\n",
    "\"The Knight Bus\",\n",
    "\"The Leaky Cauldron\",\n",
    "\"The Dementor\",\n",
    "\"Talons and Tea Leaves\",\n",
    "\"The Boggart in the Wardrobe\",\n",
    "\"Flight of the Fat Lady\",\n",
    "\"Grim Defeat\",\n",
    "\"The Marauder's Map\",\n",
    "\"The Firebolt\",\n",
    "\"The Patronus\",\n",
    "\"Gryffindor versus Ravenclaw\",\n",
    "\"Snape's Grudge\",\n",
    "\"The Quidditch Final\",\n",
    "\"Professor Trelawney's Prediction\",\n",
    "\"Cat, Rat and Dog\",\n",
    "\"Moony, Wormtail, Padfoot and Prongs\",\n",
    "\"The Servant of Lord Voldemort\",\n",
    "\"The Dementor's Kiss\",\n",
    "\"Hermione's Secret\",\n",
    "\"Owl Post Again\",\n",
    "\"he Riddle House\",\n",
    "\"he scar\",\n",
    "\"he Invitation\",\n",
    "\"ack to The Burrow\",\n",
    "\"easley's Wizard Wheezes\",\n",
    "\"he Portkey\",\n",
    "\"agman and Crouch\",\n",
    "\"he Quidditch World Cup\",\n",
    "\"he Dark Mark\",\n",
    "\"Mayhem at the Ministery\",\n",
    "\"Aboard the Hogwarts Express\",\n",
    "\"The Triwizard Tournament\",\n",
    "\"Mad-Eye Moody\",\n",
    "\"The Unforgivable Curses\",\n",
    "\"Beauxbatons and Durmstrang\",\n",
    "\"The Goblet of Fire\",\n",
    "\"The Four Champions\",\n",
    "\"The Weighing of the Wands\",\n",
    "\"The Hungarian Horntail\",\n",
    "\"The First Task\",\n",
    "\"The House-Elf Liberation Front\",\n",
    "\"The Unexpected Task\",\n",
    "\"The Yule Ball\",\n",
    "\"Rita Skeeter's Scoop\",\n",
    "\"The Egg and the Eye\",\n",
    "\"The Second Task\",\n",
    "\"Padfoot Returns\",\n",
    "\"The Madness of Mr Crouch\",\n",
    "\"The Dream\",\n",
    "\"The Pensieve\",\n",
    "\"The Third Task\",\n",
    "\"Flesh, Blood and Bone\",\n",
    "\"The Death Eaters\",\n",
    "\"Priori Incantatem\",\n",
    "\"Veritaserum\",\n",
    "\"The Parting of the Ways\",\n",
    "\"The Beginning\",\n",
    "\"Dudley Demented\",\n",
    "\"A peck of Owls\",\n",
    "\"The advance Guard\",\n",
    "\"Number Twelve - Grimmauld Place\",\n",
    "\"The Order of the Phoenix\",\n",
    "\"The Noble and Most Ancient House of Black\",\n",
    "\"The Ministry of Magic\",\n",
    "\"The Hearing\",\n",
    "\"The Woes of Mrs Weasly\",\n",
    "\"Luna Lovegood\",\n",
    "\"The Sorting Hat's New Song\",\n",
    "\"Professor Umbridge\",\n",
    "\"Detention with Dolores\",\n",
    "\"Percy and Padfoot\",\n",
    "\"The Hogwarts High Inquisitor\",\n",
    "\"The Hog's Head\",\n",
    "\"Educational Decree NumberTwenty-four\",\n",
    "\"Dumbledore's Army\",\n",
    "\"The Lion and the Serpent\",\n",
    "\"Hagrid's Tale\",\n",
    "\"The Eye of the Snake\",\n",
    "\"St Mungo's Hospital\",\n",
    "\"Christmas on the Closed Ward\",\n",
    "\"Occlumency\",\n",
    "\"The Beetle at Bay\",\n",
    "\"Seen and Unforeseen\",\n",
    "\"The Centaur and the Sneak\",\n",
    "\"Snape's Worst Memory\",\n",
    "\"Careers Advice\",\n",
    "\"Grawp\",\n",
    "\"OWLs\",\n",
    "\"Out of the Fire\",\n",
    "\"Fight and Flight\",\n",
    "\"The Department of Mysteries\",\n",
    "\"Beyond the Veil\",\n",
    "\"The Only One He Ever Feared\",\n",
    "\"The Lost Prophecy\",\n",
    "\"The Second War Begins\",\n",
    "\"The Other Minister\",\n",
    "\"Spinner's End\",\n",
    "\"Will and Won't\",\n",
    "\"Horace Slughorn\",\n",
    "\"An Excess of Phlegm\",\n",
    "\"Draco's Detour\",\n",
    "\"The Slug Club\",\n",
    "\"Snape Victorious\",\n",
    "\"The Half-Blood Prince\",\n",
    "\"The House of Gaunt\",\n",
    "\"Hermione's Helping Hand\",\n",
    "\"Silver and Opals\",\n",
    "\"The Secret Riddle\",\n",
    "\"Felix Felicis\",\n",
    "\"The Unbreakable Vow\",\n",
    "\"A Very Frosty Christmas\",\n",
    "\"A Sluggish Memory\",\n",
    "\"Birthday Surprises\",\n",
    "\"Elf Tails\",\n",
    "\"Lord Voldemort's Request\",\n",
    "\"The Unknowable Room\",\n",
    "\"After the Burial\",\n",
    "\"Horcruxes\",\n",
    "\"Sectumsempra\",\n",
    "\"The Seer Overhead\",\n",
    "\"The Cave\",\n",
    "\"The Lightning-Struck Tower\",\n",
    "\"Flight of the Prince\",\n",
    "\"The Phoenix Lament\",\n",
    "\"The White Tomb\"]\n",
    "\n",
    "analyzer = SentimentIntensityAnalyzer()\n",
    "for sentence in sentences:\n",
    "    vs = analyzer.polarity_scores(sentence)\n",
    "    print(\"{:-<65} {}\".format(sentence, str(vs)))"
   ]
  },
  {
   "cell_type": "code",
   "execution_count": 97,
   "metadata": {
    "collapsed": false
   },
   "outputs": [
    {
     "name": "stdout",
     "output_type": "stream",
     "text": [
      "Mr. and Mrs. Dursley, of number four, Privet Drive, were proud to say that they were perfectly normal, thank you very much. {'neg': 0.0, 'neu': 0.619, 'pos': 0.381, 'compound': 0.8779}\n",
      "Nearly ten years had passed since the Dursleys had woken up to find their nephew on the front step, but Privet Drive had hardly changed at all. {'neg': 0.0, 'neu': 1.0, 'pos': 0.0, 'compound': 0.0}\n",
      "The escape of the Brazilian boa constrictor earned Harry his longest-ever punishment. {'neg': 0.215, 'neu': 0.671, 'pos': 0.114, 'compound': -0.3612}\n",
      "BOOM. They knocked again. Dudley jerked awake. Where's the cannon? he said stupidly. {'neg': 0.304, 'neu': 0.696, 'pos': 0.0, 'compound': -0.5859}\n",
      "Harry woke early the next morning. Although he could tell it was daylight, he kept his eyes shut tight. {'neg': 0.0, 'neu': 1.0, 'pos': 0.0, 'compound': 0.0}\n",
      "Harrys last month with the Dursleys wasnt fun.------------------- {'neg': 0.278, 'neu': 0.722, 'pos': 0.0, 'compound': -0.4023}\n",
      "The door swung open at once. A tall, black-haired witch in emerald-green robes stood there. She had a very stern face and Harry's first thought was that this was not someone to cross. {'neg': 0.077, 'neu': 0.923, 'pos': 0.0, 'compound': -0.3612}\n",
      "There, look. Where? Next to the tall kid with the red hair------- {'neg': 0.0, 'neu': 1.0, 'pos': 0.0, 'compound': 0.0}\n",
      "Harry had never believed he would meet a boy he hated more than Dudley, but that was before he met Draco Malfoy. {'neg': 0.115, 'neu': 0.885, 'pos': 0.0, 'compound': -0.3818}\n",
      "Malfoy couldn't believe his eyes when he saw that Harry and Ron were still at Hogwarts the next day, looking tired but perfectly cheerful. {'neg': 0.058, 'neu': 0.627, 'pos': 0.315, 'compound': 0.891}\n",
      "As they entered November, the weather turned very cold. The mountains around the school became icy gray and the lake like chilled steel. {'neg': 0.0, 'neu': 0.898, 'pos': 0.102, 'compound': 0.3612}\n",
      "Christmas was coming. One morning in mid-December, Hogwarts woke to find itself covered in several feet of snow. {'neg': 0.0, 'neu': 1.0, 'pos': 0.0, 'compound': 0.0}\n",
      "Dumbledore had convinced Harry not to go looking for the Mirror of Erised again, and for the rest of the Christmas holidays the invisibility cloak stayed folded at the bottom of his trunk. Harry wished he could forget what he'd seen in the mirror as easily, but he couldn't. He started having nightmares. Over and over again he dreamed about his parents disappearing in a flash of green light, while a high voice cackled with laughter. {'neg': 0.018, 'neu': 0.861, 'pos': 0.12, 'compound': 0.802}\n",
      "Quirrell, however, must have been braver than they'd thought.---- {'neg': 0.0, 'neu': 0.702, 'pos': 0.298, 'compound': 0.5267}\n",
      "Filch took them down to Professor McGonagall's study on the first floor, where they sat and waited without saying a word to each other. {'neg': 0.0, 'neu': 1.0, 'pos': 0.0, 'compound': 0.0}\n",
      "In years to come, Harry would never quite remember how he had managed to get through his exams when he half expected Voldemort to come bursting through the door at any moment. Yet the days crept by, and there could be no doubt that Fluffy was still alive and well behind the locked door. {'neg': 0.079, 'neu': 0.842, 'pos': 0.079, 'compound': 0.0}\n",
      "It was Quirrell. You! gasped Harry. Quirrell smiled. His face wasn't twitching at all. {'neg': 0.0, 'neu': 0.774, 'pos': 0.226, 'compound': 0.5848}\n"
     ]
    }
   ],
   "source": [
    "#sentiment for startinf of chapters of book1\n",
    "sentences = [\"Mr. and Mrs. Dursley, of number four, Privet Drive, were proud to say that they were perfectly normal, thank you very much.\",\n",
    "\"Nearly ten years had passed since the Dursleys had woken up to find their nephew on the front step, but Privet Drive had hardly changed at all.\",\n",
    "\"The escape of the Brazilian boa constrictor earned Harry his longest-ever punishment.\",\n",
    "\"BOOM. They knocked again. Dudley jerked awake. Where's the cannon? he said stupidly.\",\n",
    "\"Harry woke early the next morning. Although he could tell it was daylight, he kept his eyes shut tight.\",\n",
    "\"Harrys last month with the Dursleys wasnt fun.\",\n",
    "\"The door swung open at once. A tall, black-haired witch in emerald-green robes stood there. She had a very stern face and Harry's first thought was that this was not someone to cross.\",\n",
    "\"There, look. Where? Next to the tall kid with the red hair\",\n",
    "\"Harry had never believed he would meet a boy he hated more than Dudley, but that was before he met Draco Malfoy.\",\n",
    "\"Malfoy couldn't believe his eyes when he saw that Harry and Ron were still at Hogwarts the next day, looking tired but perfectly cheerful.\",\n",
    "\"As they entered November, the weather turned very cold. The mountains around the school became icy gray and the lake like chilled steel.\",\n",
    "\"Christmas was coming. One morning in mid-December, Hogwarts woke to find itself covered in several feet of snow.\",\n",
    "\"Dumbledore had convinced Harry not to go looking for the Mirror of Erised again, and for the rest of the Christmas holidays the invisibility cloak stayed folded at the bottom of his trunk. Harry wished he could forget what he'd seen in the mirror as easily, but he couldn't. He started having nightmares. Over and over again he dreamed about his parents disappearing in a flash of green light, while a high voice cackled with laughter.\",\n",
    "\"Quirrell, however, must have been braver than they'd thought.\",\n",
    "\"Filch took them down to Professor McGonagall's study on the first floor, where they sat and waited without saying a word to each other.\",\n",
    "\"In years to come, Harry would never quite remember how he had managed to get through his exams when he half expected Voldemort to come bursting through the door at any moment. Yet the days crept by, and there could be no doubt that Fluffy was still alive and well behind the locked door.\",\n",
    "\"It was Quirrell. You! gasped Harry. Quirrell smiled. His face wasn't twitching at all.\"\n",
    "]\n",
    "\n",
    "analyzer = SentimentIntensityAnalyzer()\n",
    "for sentence in sentences:\n",
    "    vs = analyzer.polarity_scores(sentence)\n",
    "    print(\"{:-<65} {}\".format(sentence, str(vs)))\n"
   ]
  },
  {
   "cell_type": "code",
   "execution_count": 98,
   "metadata": {
    "collapsed": false
   },
   "outputs": [
    {
     "name": "stdout",
     "output_type": "stream",
     "text": [
      "Not for the first time, an argument had broken out over breakfast at number four, Privet Drive.  {'neg': 0.268, 'neu': 0.67, 'pos': 0.062, 'compound': -0.6486}\n",
      "Harry managed not to shout out, but it was a close thing.-------- {'neg': 0.0, 'neu': 1.0, 'pos': 0.0, 'compound': 0.0}\n",
      "Ron! breathed Harry, creeping to the window and pushing it up so they could talk through the bars. Ron, how did you - What the -? {'neg': 0.0, 'neu': 1.0, 'pos': 0.0, 'compound': 0.0}\n",
      "Life at the Burrow was as different as possible from life on Privet Drive. {'neg': 0.0, 'neu': 1.0, 'pos': 0.0, 'compound': 0.0}\n",
      "The end of the summer vacation came too quickly for Harry's liking. {'neg': 0.0, 'neu': 0.803, 'pos': 0.197, 'compound': 0.4019}\n",
      "The next day, however, Harry barely grinned once. Things started to go downhill from breakfast in the Great Hall. {'neg': 0.0, 'neu': 0.742, 'pos': 0.258, 'compound': 0.7102}\n",
      "Harry spent a lot of time over the next few days dodging out of sight whenever he saw Gilderoy Lockhart coming down a corridor.  {'neg': 0.063, 'neu': 0.938, 'pos': 0.0, 'compound': -0.1027}\n",
      "October arrived, spreading a damp chill over the grounds and into the castle. {'neg': 0.0, 'neu': 1.0, 'pos': 0.0, 'compound': 0.0}\n",
      "What's going on here? What's going on? Attracted no doubt byMalfoy's shout, Argus Filch came shouldering his way through the crowd. {'neg': 0.196, 'neu': 0.696, 'pos': 0.108, 'compound': -0.3094}\n",
      "Since the disastrous episode of the pixies, Professor Lockhart had not brought live creatures to class.  {'neg': 0.206, 'neu': 0.794, 'pos': 0.0, 'compound': -0.5994}\n",
      "Harry woke up on Sunday morning to find the dormitory blazing with winter sunlight and his arm reboned but very stiff. {'neg': 0.0, 'neu': 1.0, 'pos': 0.0, 'compound': 0.0}\n",
      "They stepped off the stone staircase at the top, and Professor McGonagall rapped on the door. {'neg': 0.0, 'neu': 0.893, 'pos': 0.107, 'compound': 0.2023}\n",
      "Hermione remained in the hospital wing for several weeks. ------- {'neg': 0.0, 'neu': 1.0, 'pos': 0.0, 'compound': 0.0}\n",
      "Harry, Ron, and Hermione had always known that Hagrid had an unfortunate liking for large and monstrous creatures. {'neg': 0.138, 'neu': 0.737, 'pos': 0.124, 'compound': -0.0772}\n",
      "Summer was creeping over the grounds around the castle; sky and lake alike turned periwinkle blue and flowers large as cabbages burst into bloom in the greenhouses. {'neg': 0.0, 'neu': 1.0, 'pos': 0.0, 'compound': 0.0}\n",
      "All those times we were in that bathroom, and she was just three toilets away {'neg': 0.0, 'neu': 1.0, 'pos': 0.0, 'compound': 0.0}\n",
      "He was standing at the end of a very long, dimly lit chamber.---- {'neg': 0.0, 'neu': 1.0, 'pos': 0.0, 'compound': 0.0}\n",
      "For a moment there was silence as Harry, Ron, Ginny, and Lockhart stood in the doorway, covered in muck and slime and (in Harry's case) blood. {'neg': 0.0, 'neu': 1.0, 'pos': 0.0, 'compound': 0.0}\n"
     ]
    }
   ],
   "source": [
    "#sentiment for starting of chapters of book2\n",
    "\n",
    "sentences = [ \"Not for the first time, an argument had broken out over breakfast at number four, Privet Drive. \",\n",
    "\"Harry managed not to shout out, but it was a close thing.\",\n",
    "\"Ron! breathed Harry, creeping to the window and pushing it up so they could talk through the bars. Ron, how did you - What the -?\",\n",
    "\"Life at the Burrow was as different as possible from life on Privet Drive.\",\n",
    "\"The end of the summer vacation came too quickly for Harry's liking.\",\n",
    "\"The next day, however, Harry barely grinned once. Things started to go downhill from breakfast in the Great Hall.\",\n",
    "\"Harry spent a lot of time over the next few days dodging out of sight whenever he saw Gilderoy Lockhart coming down a corridor. \",\n",
    "\"October arrived, spreading a damp chill over the grounds and into the castle.\",\n",
    "\"What's going on here? What's going on? Attracted no doubt byMalfoy's shout, Argus Filch came shouldering his way through the crowd.\",\n",
    "\"Since the disastrous episode of the pixies, Professor Lockhart had not brought live creatures to class. \",\n",
    "\"Harry woke up on Sunday morning to find the dormitory blazing with winter sunlight and his arm reboned but very stiff.\",\n",
    "\"They stepped off the stone staircase at the top, and Professor McGonagall rapped on the door.\",\n",
    "\"Hermione remained in the hospital wing for several weeks. \",\n",
    "\"Harry, Ron, and Hermione had always known that Hagrid had an unfortunate liking for large and monstrous creatures.\",\n",
    "\"Summer was creeping over the grounds around the castle; sky and lake alike turned periwinkle blue and flowers large as cabbages burst into bloom in the greenhouses.\",\n",
    "\"All those times we were in that bathroom, and she was just three toilets away\",\n",
    "\"He was standing at the end of a very long, dimly lit chamber.\",\n",
    "\"For a moment there was silence as Harry, Ron, Ginny, and Lockhart stood in the doorway, covered in muck and slime and (in Harry's case) blood.\"\n",
    "\n",
    "]\n",
    "\n",
    "analyzer = SentimentIntensityAnalyzer()\n",
    "for sentence in sentences:\n",
    "    vs = analyzer.polarity_scores(sentence)\n",
    "    print(\"{:-<65} {}\".format(sentence, str(vs)))\n"
   ]
  },
  {
   "cell_type": "code",
   "execution_count": 102,
   "metadata": {
    "collapsed": false
   },
   "outputs": [
    {
     "name": "stdout",
     "output_type": "stream",
     "text": [
      "Harry Potter was a highly unusual boy in many ways.-------------- {'neg': 0.0, 'neu': 1.0, 'pos': 0.0, 'compound': 0.0}\n",
      "Harry went down to breakfast the next morning to find the three Dursleys already sitting around the kitchen table. {'neg': 0.0, 'neu': 1.0, 'pos': 0.0, 'compound': 0.0}\n",
      "Harry was several streets away before he collapsed onto a low wall in Magnolia Crescent, panting from the effort of dragging his trunk. {'neg': 0.174, 'neu': 0.826, 'pos': 0.0, 'compound': -0.4939}\n",
      "It took Harry several days to get used to his strange new freedom. {'neg': 0.106, 'neu': 0.647, 'pos': 0.247, 'compound': 0.5267}\n",
      "Tom woke Harry the next morning with his usual toothless grin and a cup of tea. {'neg': 0.13, 'neu': 0.703, 'pos': 0.168, 'compound': 0.1779}\n",
      "When Harry, Ron, and Hermione entered the Great Hall for breakfast the next day, the first thing they saw was Draco Malfoy, who seemed to be entertaining a large group of Slytherins with a very funny story. As they passed, Malfoy did a ridiculous impression of a swooning fit and there was a roar of laughter. {'neg': 0.039, 'neu': 0.684, 'pos': 0.277, 'compound': 0.9359}\n",
      "Malfoy didn't reappear in classes until late on Thursday morning, when the Slytherins and Gryffindors were halfway through double Potions. {'neg': 0.0, 'neu': 1.0, 'pos': 0.0, 'compound': 0.0}\n",
      "In no time at all, Defense Against the Dark Arts had become most people's favorite class.  {'neg': 0.11, 'neu': 0.651, 'pos': 0.239, 'compound': 0.3774}\n",
      "Professor Dumbledore sent all the Gryffindors back to the Great Hall, where they were joined ten minutes later by the students from Hufflepuff, Ravenclaw, and Slytherin, who all looked extremely confused. {'neg': 0.073, 'neu': 0.812, 'pos': 0.115, 'compound': 0.3626}\n",
      "Madam Pomfrey insisted on keeping Harry in the hospital wing for the rest of the weekend. {'neg': 0.0, 'neu': 1.0, 'pos': 0.0, 'compound': 0.0}\n",
      "Harry didn't have a very clear idea of how he had managed to get back into the Honeydukes cellar, through the tunnel, and into the castle once more. {'neg': 0.085, 'neu': 0.915, 'pos': 0.0, 'compound': -0.3401}\n",
      "Harry knew that Hermione had meant well, but that didn't stop him from being angry with her.  {'neg': 0.199, 'neu': 0.627, 'pos': 0.174, 'compound': -0.3753}\n",
      "It looked like the end of Ron and Hermione's friendship. Each was so angry with the other that Harry couldn't see how they'd ever make up. {'neg': 0.13, 'neu': 0.705, 'pos': 0.165, 'compound': 0.041}\n",
      "No one in Gryffindor Tower slept that night.--------------------- {'neg': 0.239, 'neu': 0.761, 'pos': 0.0, 'compound': -0.296}\n",
      "He sent me this, Hermione said, holding out the letter.---------- {'neg': 0.0, 'neu': 1.0, 'pos': 0.0, 'compound': 0.0}\n",
      "Harry's euphoria at finally winning the Quidditch Cup lasted at least a week. {'neg': 0.0, 'neu': 0.565, 'pos': 0.435, 'compound': 0.8271}\n",
      "Harry's mind had gone blank with shock. The three of them stood transfixed with horror under the Invisibility Cloak. {'neg': 0.27, 'neu': 0.73, 'pos': 0.0, 'compound': -0.743}\n",
      "It took a few seconds for the absurdity of this statement to sink in. Then Ron voiced what Harry was thinking. {'neg': 0.0, 'neu': 1.0, 'pos': 0.0, 'compound': 0.0}\n",
      "Hermione screamed. Black leapt to his feet. Harry felt as though he'd received a huge electric shock. {'neg': 0.243, 'neu': 0.644, 'pos': 0.114, 'compound': -0.3818}\n",
      "Harry had never been part of a stranger group. Crookshanks led the way down the stairs; Lupin, Pettigrew, and Ron went next, looking like entrants in a six-legged race.  {'neg': 0.0, 'neu': 0.912, 'pos': 0.088, 'compound': 0.3612}\n",
      "Shocking business... shocking... miracle none of them died... never heard the like... by thunder, it was lucky you were there, Snape... {'neg': 0.099, 'neu': 0.659, 'pos': 0.242, 'compound': 0.5994}\n",
      "Harry! Hermione was tugging at his sleeve, staring at her watch.- {'neg': 0.0, 'neu': 1.0, 'pos': 0.0, 'compound': 0.0}\n"
     ]
    }
   ],
   "source": [
    "\n",
    "\n",
    "#sentiment for starting of chapters of book3\n",
    "\n",
    "sentences = [ \"Harry Potter was a highly unusual boy in many ways.\",\n",
    "\"Harry went down to breakfast the next morning to find the three Dursleys already sitting around the kitchen table.\",\n",
    "\"Harry was several streets away before he collapsed onto a low wall in Magnolia Crescent, panting from the effort of dragging his trunk.\",\n",
    "\"It took Harry several days to get used to his strange new freedom.\",\n",
    "\"Tom woke Harry the next morning with his usual toothless grin and a cup of tea.\",\n",
    "\"When Harry, Ron, and Hermione entered the Great Hall for breakfast the next day, the first thing they saw was Draco Malfoy, who seemed to be entertaining a large group of Slytherins with a very funny story. As they passed, Malfoy did a ridiculous impression of a swooning fit and there was a roar of laughter.\",\n",
    "\"Malfoy didn't reappear in classes until late on Thursday morning, when the Slytherins and Gryffindors were halfway through double Potions.\",\n",
    "\"In no time at all, Defense Against the Dark Arts had become most people's favorite class. \",\n",
    "\"Professor Dumbledore sent all the Gryffindors back to the Great Hall, where they were joined ten minutes later by the students from Hufflepuff, Ravenclaw, and Slytherin, who all looked extremely confused.\",\n",
    "\"Madam Pomfrey insisted on keeping Harry in the hospital wing for the rest of the weekend.\",\n",
    "\"Harry didn't have a very clear idea of how he had managed to get back into the Honeydukes cellar, through the tunnel, and into the castle once more.\",\n",
    "\"Harry knew that Hermione had meant well, but that didn't stop him from being angry with her. \",\n",
    "\"It looked like the end of Ron and Hermione's friendship. Each was so angry with the other that Harry couldn't see how they'd ever make up.\",\n",
    "\"No one in Gryffindor Tower slept that night.\",\n",
    "\"He sent me this, Hermione said, holding out the letter.\",\n",
    "\"Harry's euphoria at finally winning the Quidditch Cup lasted at least a week.\",\n",
    "\"Harry's mind had gone blank with shock. The three of them stood transfixed with horror under the Invisibility Cloak.\",\n",
    "\"It took a few seconds for the absurdity of this statement to sink in. Then Ron voiced what Harry was thinking.\",\n",
    "\"Hermione screamed. Black leapt to his feet. Harry felt as though he'd received a huge electric shock.\",\n",
    "\"Harry had never been part of a stranger group. Crookshanks led the way down the stairs; Lupin, Pettigrew, and Ron went next, looking like entrants in a six-legged race. \",\n",
    "\"Shocking business... shocking... miracle none of them died... never heard the like... by thunder, it was lucky you were there, Snape...\",\n",
    "\"Harry! Hermione was tugging at his sleeve, staring at her watch.\"\n",
    "             \n",
    "]\n",
    "\n",
    "analyzer = SentimentIntensityAnalyzer()\n",
    "for sentence in sentences:\n",
    "    vs = analyzer.polarity_scores(sentence)\n",
    "    print(\"{:-<65} {}\".format(sentence, str(vs)))\n"
   ]
  },
  {
   "cell_type": "code",
   "execution_count": 103,
   "metadata": {
    "collapsed": false
   },
   "outputs": [
    {
     "name": "stdout",
     "output_type": "stream",
     "text": [
      "The villagers of Little Hangleron still called it the Riddle House, even though it had been many years since the Riddle family had lived there. {'neg': 0.0, 'neu': 1.0, 'pos': 0.0, 'compound': 0.0}\n",
      "Harry lay flat on his back, breathing hard as though he had been running. {'neg': 0.097, 'neu': 0.903, 'pos': 0.0, 'compound': -0.1027}\n",
      "By the time Harry arrived in the kitchen, the three Dursleys were already seated around the table. {'neg': 0.0, 'neu': 1.0, 'pos': 0.0, 'compound': 0.0}\n",
      "By twelve o'clock the next day, Harry's school trunk was packed with his school things and all his most prized possessions - the Invisibility Cloak he had inherited from his father, the broomstick he had gotten from Sirius, the enchanted map of Hogwarts he had been given by Fred and George Weasley last year. {'neg': 0.0, 'neu': 0.89, 'pos': 0.11, 'compound': 0.7425}\n",
      "Harry spun faster and faster, elbows tucked tightly to his sides, blurred fireplaces flashing past him, until he started to feel sick and closed his eyes. {'neg': 0.117, 'neu': 0.883, 'pos': 0.0, 'compound': -0.5106}\n",
      "Harry felt as though he had barely lain down to steep in Ron's room when he was being shaken awake by Mrs. Weasley. {'neg': 0.056, 'neu': 0.944, 'pos': 0.0, 'compound': -0.0772}\n",
      "Harry disentangled himself from Ron and got to his feet. They had arrived on what appeared to be a deserted stretch of misty moor. {'neg': 0.0, 'neu': 1.0, 'pos': 0.0, 'compound': 0.0}\n",
      "Clutching their purchases, Mr. Weasley in the lead, they all hurried into the wood, following the lantern-lit trail. {'neg': 0.0, 'neu': 1.0, 'pos': 0.0, 'compound': 0.0}\n",
      "Don't tell your mother you've been gambling, Mr. Weasley implored Fred and George as they all made their way slowly down the purple-carpeted stairs. {'neg': 0.0, 'neu': 1.0, 'pos': 0.0, 'compound': 0.0}\n",
      "Mr. Weasley woke them after only a few hours sleep. He used magic to pack up the tents, and they left the campsite as quickly as possible, passing Mr. Roberts at the door of his cottage. {'neg': 0.0, 'neu': 1.0, 'pos': 0.0, 'compound': 0.0}\n",
      "There was a definite end-of-the-holidays gloom in the air when Harry awoke next morning.  {'neg': 0.216, 'neu': 0.659, 'pos': 0.126, 'compound': -0.3612}\n",
      "Through the gates, flanked with statues of winged boars, and up the sweeping drive the carriages trundled, swaying dangerously in what was fast becoming a gale. {'neg': 0.111, 'neu': 0.889, 'pos': 0.0, 'compound': -0.4588}\n",
      "The storm had blown itself out by the following morning, though the ceiling in the Great Hall was still gloomy; heavy clouds of pewter gray swirled overhead as Harry, Ron, and Hermione examined their new course schedules at breakfast. {'neg': 0.037, 'neu': 0.867, 'pos': 0.096, 'compound': 0.5423}\n",
      "The next two days passed without great incident, unless you counted Neville melting his sixth cauldron in Potions.  {'neg': 0.162, 'neu': 0.838, 'pos': 0.0, 'compound': -0.5096}\n",
      "Early next morning, Harry woke with a plan fully formed in his mind, as though his sleeping brain had been working on it all night. {'neg': 0.0, 'neu': 1.0, 'pos': 0.0, 'compound': 0.0}\n",
      "I don't believe it! Ron said, in a stunned voice, as the Hogwarts students filed back up the steps behind the party from Durmstrang. {'neg': 0.057, 'neu': 0.82, 'pos': 0.123, 'compound': 0.3802}\n",
      "Harry sat there, aware that every head in the Great Hall had turned to look at him. He was stunned. {'neg': 0.06, 'neu': 0.766, 'pos': 0.174, 'compound': 0.5719}\n",
      "When Harry woke up on Sunday morning, it took him a moment to remember why he felt so miserable and worried. {'neg': 0.268, 'neu': 0.732, 'pos': 0.0, 'compound': -0.7636}\n",
      "The prospect of talking face-to-face with Sirius was all that sustained Harry over the next fortnight, the only bright spot on a horizon that had never looked darker. {'neg': 0.0, 'neu': 0.831, 'pos': 0.169, 'compound': 0.6249}\n",
      "Harry got up on Sunday morning and dressed so inattentively that it was a while before he realized he was trying to pull his hat onto his foot instead of his sock. {'neg': 0.0, 'neu': 1.0, 'pos': 0.0, 'compound': 0.0}\n",
      " Harry, Ron, and Hermione went up to the Owlery that evening to find Pigwidgeon, so that Harry could send Sirius a letter telling him that he had managed to get past his dragon unscathed. {'neg': 0.0, 'neu': 1.0, 'pos': 0.0, 'compound': 0.0}\n",
      "Potter! Weasley! Will you pay attention? Professor McGonagall's irritated voice cracked like a whip through the Transfiguration class on Thursday, and Harry and Ron both jumped and looked up. {'neg': 0.153, 'neu': 0.77, 'pos': 0.077, 'compound': -0.3578}\n",
      "Despite the very heavy load of homework that the fourth years had been given for the holidays. {'neg': 0.0, 'neu': 0.86, 'pos': 0.14, 'compound': 0.3818}\n",
      "Everybody got up late on Boxing Day. The Gryffindor common room was much quieter than it had been lately, many yawns punctuating the lazy conversations.  {'neg': 0.094, 'neu': 0.906, 'pos': 0.0, 'compound': -0.3612}\n",
      "Harry had no idea how long a bath he would need to work out the secret of the golden egg, he decided to do it at night, when he would be able to take as much time as he wanted. {'neg': 0.055, 'neu': 0.945, 'pos': 0.0, 'compound': -0.296}\n",
      "You said you'd already worked out that egg clue! said Hermione indignantly. {'neg': 0.0, 'neu': 1.0, 'pos': 0.0, 'compound': 0.0}\n",
      "One of the best things about the aftermath of the second task was that everybody was very keen to hear details of what had happened down in the lake, which meant that Ron was getting to share Harry's limelight for once. {'neg': 0.0, 'neu': 0.805, 'pos': 0.195, 'compound': 0.8479}\n",
      "Harry, Ron, and Hermione went up to the Owlery after breakfast on Sunday to send a letter to Percy, asking, as Sirius had suggested, whether he had seen Mr. Crouch lately. {'neg': 0.0, 'neu': 1.0, 'pos': 0.0, 'compound': 0.0}\n",
      "It comes down to this, said Hermione, rubbing her forehead.------ {'neg': 0.0, 'neu': 1.0, 'pos': 0.0, 'compound': 0.0}\n",
      "The door of the office opened.Hello, Potter, said Moody. Come in, then. {'neg': 0.185, 'neu': 0.815, 'pos': 0.0, 'compound': -0.3612}\n",
      "Dumbledore reckons You-Know-Who's getting stronger again as well? Ron whispered. {'neg': 0.0, 'neu': 0.63, 'pos': 0.37, 'compound': 0.5719}\n",
      "Harry felt his feet slam into the ground; his injured leg gave way, and he fell forward; his hand let go of the Triwizard Cup at last. {'neg': 0.163, 'neu': 0.738, 'pos': 0.098, 'compound': -0.2732}\n",
      "Voldemort looked away from Harry and began examining his own body. {'neg': 0.0, 'neu': 1.0, 'pos': 0.0, 'compound': 0.0}\n",
      "Wormtail approached Harry, who scrambled to find his feet, to support his own weight before the ropes were untied. {'neg': 0.0, 'neu': 0.87, 'pos': 0.13, 'compound': 0.4019}\n",
      "Harry felt himself slam flat into the ground; his face was pressed into grass; the smell of it filled his nostrils. {'neg': 0.115, 'neu': 0.885, 'pos': 0.0, 'compound': -0.3818}\n",
      "Dumbledore stood up. He stared down at Barty Crouch for a moment with disgust on his face. {'neg': 0.206, 'neu': 0.794, 'pos': 0.0, 'compound': -0.5994}\n",
      "When he looked back, even a month later, Harry found he had only scattered memories of the next few days. {'neg': 0.0, 'neu': 1.0, 'pos': 0.0, 'compound': 0.0}\n"
     ]
    }
   ],
   "source": [
    "#sentiment for starting of chapters of book4\n",
    "\n",
    "sentences = [ \"The villagers of Little Hangleron still called it the Riddle House, even though it had been many years since the Riddle family had lived there.\",\n",
    "\"Harry lay flat on his back, breathing hard as though he had been running.\",\n",
    "\"By the time Harry arrived in the kitchen, the three Dursleys were already seated around the table.\",\n",
    "\"By twelve o'clock the next day, Harry's school trunk was packed with his school things and all his most prized possessions - the Invisibility Cloak he had inherited from his father, the broomstick he had gotten from Sirius, the enchanted map of Hogwarts he had been given by Fred and George Weasley last year.\",\n",
    "\"Harry spun faster and faster, elbows tucked tightly to his sides, blurred fireplaces flashing past him, until he started to feel sick and closed his eyes.\",\n",
    "\"Harry felt as though he had barely lain down to steep in Ron's room when he was being shaken awake by Mrs. Weasley.\",\n",
    "\"Harry disentangled himself from Ron and got to his feet. They had arrived on what appeared to be a deserted stretch of misty moor.\",\n",
    "\"Clutching their purchases, Mr. Weasley in the lead, they all hurried into the wood, following the lantern-lit trail.\",\n",
    "\"Don't tell your mother you've been gambling, Mr. Weasley implored Fred and George as they all made their way slowly down the purple-carpeted stairs.\",\n",
    "\"Mr. Weasley woke them after only a few hours sleep. He used magic to pack up the tents, and they left the campsite as quickly as possible, passing Mr. Roberts at the door of his cottage.\",\n",
    "\"There was a definite end-of-the-holidays gloom in the air when Harry awoke next morning. \",\n",
    "\"Through the gates, flanked with statues of winged boars, and up the sweeping drive the carriages trundled, swaying dangerously in what was fast becoming a gale.\",\n",
    "\"The storm had blown itself out by the following morning, though the ceiling in the Great Hall was still gloomy; heavy clouds of pewter gray swirled overhead as Harry, Ron, and Hermione examined their new course schedules at breakfast.\",\n",
    "\"The next two days passed without great incident, unless you counted Neville melting his sixth cauldron in Potions. \",\n",
    "\"Early next morning, Harry woke with a plan fully formed in his mind, as though his sleeping brain had been working on it all night.\",\n",
    "\"I don't believe it! Ron said, in a stunned voice, as the Hogwarts students filed back up the steps behind the party from Durmstrang.\",\n",
    "\"Harry sat there, aware that every head in the Great Hall had turned to look at him. He was stunned.\",\n",
    "\"When Harry woke up on Sunday morning, it took him a moment to remember why he felt so miserable and worried.\",\n",
    "\"The prospect of talking face-to-face with Sirius was all that sustained Harry over the next fortnight, the only bright spot on a horizon that had never looked darker.\",\n",
    "\"Harry got up on Sunday morning and dressed so inattentively that it was a while before he realized he was trying to pull his hat onto his foot instead of his sock.\",\n",
    "\" Harry, Ron, and Hermione went up to the Owlery that evening to find Pigwidgeon, so that Harry could send Sirius a letter telling him that he had managed to get past his dragon unscathed.\",\n",
    "\"Potter! Weasley! Will you pay attention? Professor McGonagall's irritated voice cracked like a whip through the Transfiguration class on Thursday, and Harry and Ron both jumped and looked up.\",\n",
    "\"Despite the very heavy load of homework that the fourth years had been given for the holidays.\",\n",
    "\"Everybody got up late on Boxing Day. The Gryffindor common room was much quieter than it had been lately, many yawns punctuating the lazy conversations. \",\n",
    "\"Harry had no idea how long a bath he would need to work out the secret of the golden egg, he decided to do it at night, when he would be able to take as much time as he wanted.\",\n",
    "\"You said you'd already worked out that egg clue! said Hermione indignantly.\",\n",
    "\"One of the best things about the aftermath of the second task was that everybody was very keen to hear details of what had happened down in the lake, which meant that Ron was getting to share Harry's limelight for once.\",\n",
    "\"Harry, Ron, and Hermione went up to the Owlery after breakfast on Sunday to send a letter to Percy, asking, as Sirius had suggested, whether he had seen Mr. Crouch lately.\",\n",
    "\"It comes down to this, said Hermione, rubbing her forehead.\",\n",
    "\"The door of the office opened.Hello, Potter, said Moody. Come in, then.\",\n",
    "\"Dumbledore reckons You-Know-Who's getting stronger again as well? Ron whispered.\",\n",
    "\"Harry felt his feet slam into the ground; his injured leg gave way, and he fell forward; his hand let go of the Triwizard Cup at last.\",\n",
    "\"Voldemort looked away from Harry and began examining his own body.\",\n",
    "\"Wormtail approached Harry, who scrambled to find his feet, to support his own weight before the ropes were untied.\",\n",
    "\"Harry felt himself slam flat into the ground; his face was pressed into grass; the smell of it filled his nostrils.\",\n",
    "\"Dumbledore stood up. He stared down at Barty Crouch for a moment with disgust on his face.\",\n",
    "\"When he looked back, even a month later, Harry found he had only scattered memories of the next few days.\"\n",
    "]\n",
    "\n",
    "analyzer = SentimentIntensityAnalyzer()\n",
    "for sentence in sentences:\n",
    "    vs = analyzer.polarity_scores(sentence)\n",
    "    print(\"{:-<65} {}\".format(sentence, str(vs)))"
   ]
  },
  {
   "cell_type": "code",
   "execution_count": 105,
   "metadata": {
    "collapsed": false
   },
   "outputs": [
    {
     "name": "stdout",
     "output_type": "stream",
     "text": [
      "Dudley Demented The hottest day of the summer so far was drawing to a close and a drowsy silence lay over the larg {'neg': 0.0, 'neu': 1.0, 'pos': 0.0, 'compound': 0.0}\n",
      " 'What?' said Harry blankly.     'He left!' said Mrs Figg, wringing her hands. {'neg': 0.0, 'neu': 1.0, 'pos': 0.0, 'compound': 0.0}\n",
      "The Advance Guard I've just been attacked by Dementors and I might be expelled from Hogwarts. I want to know what's going on and when I'm going to get out of here.  {'neg': 0.15, 'neu': 0.811, 'pos': 0.039, 'compound': -0.5719}\n",
      "Number Twelve, Grimmauld Place 'What's the Order of the - ?' Harry began.     'Not here, boy!' snarled Moody. Wait till we're inside!' {'neg': 0.132, 'neu': 0.813, 'pos': 0.056, 'compound': -0.4184}\n",
      "Your - ? My dear old mum, yeah, said Sirius. We have been trying to get her down for a month but we think she put a Permanent. {'neg': 0.0, 'neu': 0.866, 'pos': 0.134, 'compound': 0.34}\n",
      "The Noble and Most Ancient House of Black Mrs Weasley followed them upstairs looking grim. {'neg': 0.188, 'neu': 0.66, 'pos': 0.152, 'compound': -0.1779}\n",
      "The Ministry of Magic Harry awoke at half past five the next morning as abruptly and completely as if somebody had yelled in his ear. {'neg': 0.0, 'neu': 1.0, 'pos': 0.0, 'compound': 0.0}\n",
      "The Hearing Harry gasped; he could not help himself. The large dungeon he had entered was horribly familiar. {'neg': 0.261, 'neu': 0.739, 'pos': 0.0, 'compound': -0.6866}\n",
      "The Woes of Mrs Weasley Dumbledore's abrupt departure took Harry completely by surprise. {'neg': 0.178, 'neu': 0.676, 'pos': 0.146, 'compound': -0.1335}\n",
      "Luna Lovegood Harry had a troubled nights sleep. His parents wove in and out of his dreams, never speaking; Mrs Weasley sobbed over Kreacher's dead body, watched by Ron and Hermione who were wearing crowns, and yet again Harry found himself walking clown a corridor ending in a locked door. {'neg': 0.182, 'neu': 0.769, 'pos': 0.048, 'compound': -0.8176}\n",
      "The Sorting Hat's New Song Harry did not want to tell the others that he and Luna were having the same hallucination, if that was what it was, so he said nothing more about the horses as he sat down inside the carriage and slammed the door behind him. Nevertheless, he could not help watching the silhouettes of the horses moving beyond the window. {'neg': 0.053, 'neu': 0.947, 'pos': 0.0, 'compound': -0.357}\n",
      "Professor Umbridge Seamus dressed at top speed next morning and left the dormitory before Harry had even put on his socks.  {'neg': 0.0, 'neu': 0.917, 'pos': 0.083, 'compound': 0.2023}\n",
      "Dentention with Delores Dinner in the Great Hall that night was not a pleasant experience for Harry.  {'neg': 0.13, 'neu': 0.673, 'pos': 0.197, 'compound': 0.3395}\n",
      "Percy and Padfoot Harry was first to wake up in his dormitory next morning. {'neg': 0.0, 'neu': 1.0, 'pos': 0.0, 'compound': 0.0}\n",
      "The Hogwart's High Inquisitor They had expected to have to comb Hermione's Daily Prophet carefully next morning to find the article Percy had mentioned in his letter. {'neg': 0.0, 'neu': 0.945, 'pos': 0.055, 'compound': 0.128}\n",
      "In the Hog's Head Hermione made no mention of Harry giving Defence Against the Dark Arts lessons for two whole weeks after her original suggestion. {'neg': 0.075, 'neu': 0.717, 'pos': 0.208, 'compound': 0.4404}\n",
      "Harry felt happier for the rest of the weekend than he had done all term. He and Ron spent much of Sunday catching up with all their homework again, and although this could hardly be called fun, the last burst of autumn sunshine persisted, so rather than sitting hunched over tables in the common room they took their work outside and lounged in the shade of a large beech tree on the edge of the lake. {'neg': 0.0, 'neu': 0.882, 'pos': 0.118, 'compound': 0.8637}\n",
      "Dumbledore's Army 'Umbridge has been reading your mail, Harry. There's no other explanation. {'neg': 0.155, 'neu': 0.845, 'pos': 0.0, 'compound': -0.296}\n",
      "The Lion and the Serpant Harry felt as though he were carrying some kind of talisman inside his chest over the following two weeks, a glowing secret that supported him through Umbridge's classes and even made it possible for him to smile blandly as he looked into her horrible bulging eyes. {'neg': 0.063, 'neu': 0.85, 'pos': 0.087, 'compound': 0.0772}\n",
      "Hagrid's Tale Harry sprinted up to the boys' dormitories to fetch the Invisibility Cloak and the Marauder's Map from his trunk; he was so quick that he and Ron were ready to leave at least five minutes before Hermione hurried back down from the girls' dormitories, wearing scarf, gloves and one of her own knobbly elf hats. {'neg': 0.02, 'neu': 0.937, 'pos': 0.043, 'compound': 0.3182}\n",
      "The Eye of the Snake Hermione ploughed her way back to Hagrid's cabin through two feet of snow on Sunday morning. {'neg': 0.0, 'neu': 1.0, 'pos': 0.0, 'compound': 0.0}\n",
      "St Mungo's Hosptial for Magical Maladies and Injuries Harry was so relieved she was taking him seriously that he did not hesitate, hut jumped out of bed at once, pulled on his dressing gown and pushed his glasses back on to his nose. {'neg': 0.036, 'neu': 0.853, 'pos': 0.11, 'compound': 0.5393}\n",
      "Christmas on the Closed Ward Was this why Dumbledore would no longer meet Harry's eyes? {'neg': 0.136, 'neu': 0.864, 'pos': 0.0, 'compound': -0.296}\n",
      "Occlumency Kreacher, it transpired, had been lurking in the attic.  {'neg': 0.143, 'neu': 0.857, 'pos': 0.0, 'compound': -0.128}\n",
      "The Beetle at Bay Harry's question was answered the very next morning. {'neg': 0.0, 'neu': 1.0, 'pos': 0.0, 'compound': 0.0}\n",
      "Seen and Unforseen Luna said vaguely that she did not know how soon Rita's interview with Harry would appear in The Quibbler, that her father was expecting a lovely long article on recent sightings of Crumple-Horned Snorkacks, ' - and of course, that'll be a very important story, so Harry's might have to wait for the following issue,' said Luna.     Harry had not found it an easy experience to talk about the night when Voldemort had returned. Rita had pressed him for every little detail and he had given her everything he could remember, knowing that this was his one big opportunity to tell the world the truth. He wondered how people would react to the story. He guessed that it would confirm a lot of people in the view that he was completely insane, not least because his story would be appearing alongside utter rubbish about Crumple-Horned Snorkacks. {'neg': 0.019, 'neu': 0.891, 'pos': 0.09, 'compound': 0.872}\n",
      "The Centaur and The Sneak 'I'll bet you wish you hadn't given up Divination now, don't you, Hermione?' asked Parvati, smirking.  {'neg': 0.094, 'neu': 0.793, 'pos': 0.113, 'compound': 0.1134}\n",
      "Snapes Worst Memory BY ORDER OF THE MINISTRY OF MAGIC Dolores Jane Umbridge (High Inquisitor) has replaced Albus Dumbledore as Head of Hogwarts School of Witchcraft and Wizardry. {'neg': 0.132, 'neu': 0.868, 'pos': 0.0, 'compound': -0.6249}\n",
      "Careers Advice  'But why haven't you got Occlumency lessons any more?' said Hermione, frowning. {'neg': 0.156, 'neu': 0.844, 'pos': 0.0, 'compound': -0.34}\n",
      "Grawp The story of Fred and George's flight to freedom was retold so often over the next few days that Harry could tell it would soon become the stuff of Hogwarts legend {'neg': 0.0, 'neu': 0.881, 'pos': 0.119, 'compound': 0.6369}\n",
      "OWLs Ron's euphoria at helping Gryffindor scrape the Quidditch cup was such that he couldn't settle to anything next day. {'neg': 0.0, 'neu': 0.735, 'pos': 0.265, 'compound': 0.7579}\n",
      "Out of the Fire 'I'm not going . . . I don't need the hospital wing . . . I don't want . . .'     He was gibbering as he tried to pull away from Professor Tofty, who was looking at Harry with much concern after helping him out into the Entrance Hall with the students all around them staring.     I'm - I'm fine, sir,' Harry stammered, wiping the sweat from his face. 'Really . . . I just fell asleep . . . had a nightmare . . .'     'Pressure of examinations!' said the old wizard sympathetically, patting Harry shakily on the shoulder. {'neg': 0.108, 'neu': 0.847, 'pos': 0.045, 'compound': -0.5739}\n",
      "Fight and Flight Harry had no idea what Hermione was planning, or even whether she had a plan. {'neg': 0.242, 'neu': 0.758, 'pos': 0.0, 'compound': -0.5859}\n",
      "The Department Of Mysteries Harry wound his hand tightly into the mane of the nearest Thestral, placed a foot on a stump nearby and scrambled clumsily on to the horse's silken back. It did not object, but twisted its head around, fangs bared, and attempted to continue its eager licking of his robes.     He found there was a way of lodging his knees behind the wing joints that made him feel more secure, then looked around at the others. {'neg': 0.0, 'neu': 0.891, 'pos': 0.109, 'compound': 0.8355}\n",
      "Beyond the Veil Black shapes were emerging out of thin air all around them, blocking their way left and right; eyes glinted through slits in hoods, a dozen lit wand tips were pointing directly at their hearts; Ginny gave a gasp of horror. {'neg': 0.139, 'neu': 0.861, 'pos': 0.0, 'compound': -0.743}\n",
      "The Only One He Ever Feared 'He hasn't gone!' Harry yelled.------ {'neg': 0.259, 'neu': 0.741, 'pos': 0.0, 'compound': -0.5411}\n",
      "The Lost Prophecy Harry's feet hit solid ground; his knees buckled a little and the golden wizard's head fell with a resounding clunk to the floor. He looked around and saw that he had arrived in Dumbledore's office.     Everything seemed to have repaired itself during the Headmasters absence. The delicate silver instruments stood once more on the spindle-legged tables, puffing and whirring serenely. The portraits of the headmasters and headmistresses were snoozing in their frames, heads lolling back in armchairs or against the edge of the; picture. Harry looked through the window.  {'neg': 0.025, 'neu': 0.945, 'pos': 0.03, 'compound': -0.128}\n",
      "The Second War Begins HE WHO MUST NOT BE NAMED RETURNS ---------- {'neg': 0.281, 'neu': 0.719, 'pos': 0.0, 'compound': -0.5994}\n"
     ]
    }
   ],
   "source": [
    "#sentiment for starting of chapters of book5\n",
    "\n",
    "sentences = [ \"Dudley Demented The hottest day of the summer so far was drawing to a close and a drowsy silence lay over the larg\",\n",
    "\" 'What?' said Harry blankly.     'He left!' said Mrs Figg, wringing her hands.\",\n",
    "\"The Advance Guard I've just been attacked by Dementors and I might be expelled from Hogwarts. I want to know what's going on and when I'm going to get out of here. \",\n",
    "\"Number Twelve, Grimmauld Place 'What's the Order of the - ?' Harry began.     'Not here, boy!' snarled Moody. Wait till we're inside!'\",\n",
    "\"Your - ? My dear old mum, yeah, said Sirius. We have been trying to get her down for a month but we think she put a Permanent.\",\n",
    "\"The Noble and Most Ancient House of Black Mrs Weasley followed them upstairs looking grim.\",\n",
    "\"The Ministry of Magic Harry awoke at half past five the next morning as abruptly and completely as if somebody had yelled in his ear.\",\n",
    "\"The Hearing Harry gasped; he could not help himself. The large dungeon he had entered was horribly familiar.\",\n",
    "\"The Woes of Mrs Weasley Dumbledore's abrupt departure took Harry completely by surprise.\",\n",
    "\"Luna Lovegood Harry had a troubled nights sleep. His parents wove in and out of his dreams, never speaking; Mrs Weasley sobbed over Kreacher's dead body, watched by Ron and Hermione who were wearing crowns, and yet again Harry found himself walking clown a corridor ending in a locked door.\",\n",
    "\"The Sorting Hat's New Song Harry did not want to tell the others that he and Luna were having the same hallucination, if that was what it was, so he said nothing more about the horses as he sat down inside the carriage and slammed the door behind him. Nevertheless, he could not help watching the silhouettes of the horses moving beyond the window.\",\n",
    "\"Professor Umbridge Seamus dressed at top speed next morning and left the dormitory before Harry had even put on his socks. \",\n",
    "\"Dentention with Delores Dinner in the Great Hall that night was not a pleasant experience for Harry. \",\n",
    "\"Percy and Padfoot Harry was first to wake up in his dormitory next morning.\",\n",
    "\"The Hogwart's High Inquisitor They had expected to have to comb Hermione's Daily Prophet carefully next morning to find the article Percy had mentioned in his letter.\",\n",
    "\"In the Hog's Head Hermione made no mention of Harry giving Defence Against the Dark Arts lessons for two whole weeks after her original suggestion.\",\n",
    "\"Harry felt happier for the rest of the weekend than he had done all term. He and Ron spent much of Sunday catching up with all their homework again, and although this could hardly be called fun, the last burst of autumn sunshine persisted, so rather than sitting hunched over tables in the common room they took their work outside and lounged in the shade of a large beech tree on the edge of the lake.\",\n",
    "\"Dumbledore's Army 'Umbridge has been reading your mail, Harry. There's no other explanation.\",\n",
    "\"The Lion and the Serpant Harry felt as though he were carrying some kind of talisman inside his chest over the following two weeks, a glowing secret that supported him through Umbridge's classes and even made it possible for him to smile blandly as he looked into her horrible bulging eyes.\",\n",
    "\"Hagrid's Tale Harry sprinted up to the boys' dormitories to fetch the Invisibility Cloak and the Marauder's Map from his trunk; he was so quick that he and Ron were ready to leave at least five minutes before Hermione hurried back down from the girls' dormitories, wearing scarf, gloves and one of her own knobbly elf hats.\",\n",
    "\"The Eye of the Snake Hermione ploughed her way back to Hagrid's cabin through two feet of snow on Sunday morning.\",\n",
    "\"St Mungo's Hosptial for Magical Maladies and Injuries Harry was so relieved she was taking him seriously that he did not hesitate, hut jumped out of bed at once, pulled on his dressing gown and pushed his glasses back on to his nose.\",\n",
    "\"Christmas on the Closed Ward Was this why Dumbledore would no longer meet Harry's eyes?\",\n",
    "\"Occlumency Kreacher, it transpired, had been lurking in the attic. \",\n",
    "\"The Beetle at Bay Harry's question was answered the very next morning.\",\n",
    "\"Seen and Unforseen Luna said vaguely that she did not know how soon Rita's interview with Harry would appear in The Quibbler, that her father was expecting a lovely long article on recent sightings of Crumple-Horned Snorkacks, ' - and of course, that'll be a very important story, so Harry's might have to wait for the following issue,' said Luna.     Harry had not found it an easy experience to talk about the night when Voldemort had returned. Rita had pressed him for every little detail and he had given her everything he could remember, knowing that this was his one big opportunity to tell the world the truth. He wondered how people would react to the story. He guessed that it would confirm a lot of people in the view that he was completely insane, not least because his story would be appearing alongside utter rubbish about Crumple-Horned Snorkacks.\",\n",
    "\"The Centaur and The Sneak 'I'll bet you wish you hadn't given up Divination now, don't you, Hermione?' asked Parvati, smirking. \",\n",
    "\"Snapes Worst Memory BY ORDER OF THE MINISTRY OF MAGIC Dolores Jane Umbridge (High Inquisitor) has replaced Albus Dumbledore as Head of Hogwarts School of Witchcraft and Wizardry.\",\n",
    "\"Careers Advice  'But why haven't you got Occlumency lessons any more?' said Hermione, frowning.\",\n",
    "\"Grawp The story of Fred and George's flight to freedom was retold so often over the next few days that Harry could tell it would soon become the stuff of Hogwarts legend\",\n",
    "\"OWLs Ron's euphoria at helping Gryffindor scrape the Quidditch cup was such that he couldn't settle to anything next day.\",\n",
    "\"Out of the Fire 'I'm not going . . . I don't need the hospital wing . . . I don't want . . .'     He was gibbering as he tried to pull away from Professor Tofty, who was looking at Harry with much concern after helping him out into the Entrance Hall with the students all around them staring.     I'm - I'm fine, sir,' Harry stammered, wiping the sweat from his face. 'Really . . . I just fell asleep . . . had a nightmare . . .'     'Pressure of examinations!' said the old wizard sympathetically, patting Harry shakily on the shoulder.\",\n",
    "\"Fight and Flight Harry had no idea what Hermione was planning, or even whether she had a plan.\",\n",
    "\"The Department Of Mysteries Harry wound his hand tightly into the mane of the nearest Thestral, placed a foot on a stump nearby and scrambled clumsily on to the horse's silken back. It did not object, but twisted its head around, fangs bared, and attempted to continue its eager licking of his robes.     He found there was a way of lodging his knees behind the wing joints that made him feel more secure, then looked around at the others.\",\n",
    "\"Beyond the Veil Black shapes were emerging out of thin air all around them, blocking their way left and right; eyes glinted through slits in hoods, a dozen lit wand tips were pointing directly at their hearts; Ginny gave a gasp of horror.\",\n",
    "\"The Only One He Ever Feared 'He hasn't gone!' Harry yelled.\",\n",
    "\"The Lost Prophecy Harry's feet hit solid ground; his knees buckled a little and the golden wizard's head fell with a resounding clunk to the floor. He looked around and saw that he had arrived in Dumbledore's office.     Everything seemed to have repaired itself during the Headmasters absence. The delicate silver instruments stood once more on the spindle-legged tables, puffing and whirring serenely. The portraits of the headmasters and headmistresses were snoozing in their frames, heads lolling back in armchairs or against the edge of the; picture. Harry looked through the window. \",\n",
    "\"The Second War Begins HE WHO MUST NOT BE NAMED RETURNS \"\n",
    "]\n",
    "\n",
    "analyzer = SentimentIntensityAnalyzer()\n",
    "for sentence in sentences:\n",
    "    vs = analyzer.polarity_scores(sentence)\n",
    "    print(\"{:-<65} {}\".format(sentence, str(vs)))"
   ]
  },
  {
   "cell_type": "code",
   "execution_count": 106,
   "metadata": {
    "collapsed": false
   },
   "outputs": [
    {
     "name": "stdout",
     "output_type": "stream",
     "text": [
      "It was nearing midnight and the Prime Minister was sitting alone in his office,   reading   a   long   memo   that   was  slipping   through   his   brain   without leaving the slightest trace of meaning behind. {'neg': 0.063, 'neu': 0.938, 'pos': 0.0, 'compound': -0.25}\n",
      "Many      miles   away    the  chilly  mist   that  had   pressed   against    the  Prime Minister's     windows       drifted   over    a  dirty   river   that   wound      between overgrown, rubbish-strewn banks. {'neg': 0.112, 'neu': 0.888, 'pos': 0.0, 'compound': -0.4404}\n",
      "Harry Potter was snoring loudly. He had been sitting in a chair beside his bedroom window for the best part of four hours {'neg': 0.0, 'neu': 0.833, 'pos': 0.167, 'compound': 0.6369}\n",
      "Despite the fact that he had spent every waking moment of the past few days hoping desperately that Dumbledore would indeed come to fetch him {'neg': 0.092, 'neu': 0.81, 'pos': 0.099, 'compound': 0.0516}\n",
      "Harry and Dumbledore approached the back door of the Burrow, which was   surrounded   by   the   familiar   litter  of   old   Wellington   boots   and   rusty cauldrons {'neg': 0.0, 'neu': 1.0, 'pos': 0.0, 'compound': 0.0}\n",
      "Harry remained within the confines of the Burrow's garden over the next few weeks. {'neg': 0.0, 'neu': 1.0, 'pos': 0.0, 'compound': 0.0}\n",
      "Harry spent a lot of the last week of the holidays pondering the meaning of Malfoy's behavior in Knockturn Alley. {'neg': 0.0, 'neu': 0.874, 'pos': 0.126, 'compound': 0.3818}\n",
      "Harry   could   not   move   a   muscle.   He  lay   there   beneath   the   Invisibility Cloak   feeling   the   blood   from   his   nose  flow {'neg': 0.0, 'neu': 0.923, 'pos': 0.077, 'compound': 0.128}\n",
      "Harry and Ron met Hermione in the common room before breakfast next morning. {'neg': 0.0, 'neu': 1.0, 'pos': 0.0, 'compound': 0.0}\n",
      "For or the rest of the week's Potions lessons Harry continued to follow the Half-Blood       Prince's   instructions    wherever      they   deviated    from    Libatius Borage's {'neg': 0.0, 'neu': 1.0, 'pos': 0.0, 'compound': 0.0}\n",
      "As   Hermione   had   predicted,   the   sixth   years'   free   periods   were   not   the hours     of  blissful   relaxation    Ron    had   anticipated {'neg': 0.0, 'neu': 0.602, 'pos': 0.398, 'compound': 0.891}\n",
      "Where was Dumbledore, and what was he doing? Harry caught sight of the headmaster only twice over the next few weeks. {'neg': 0.0, 'neu': 1.0, 'pos': 0.0, 'compound': 0.0}\n",
      "Katie   was   removed   to   St.   Mungo's   Hospital   for   Magical   Maladies   and Injuries the following day, by which time the news that she had been cursed had spread all over the school {'neg': 0.0, 'neu': 1.0, 'pos': 0.0, 'compound': 0.0}\n",
      "Felix Felicis Harry   had   Herbology   first   thing   the      following   morning.  {'neg': 0.0, 'neu': 1.0, 'pos': 0.0, 'compound': 0.0}\n",
      "Snow was swirling against the icy windows once more;   Christmas   was approaching   fast. {'neg': 0.0, 'neu': 1.0, 'pos': 0.0, 'compound': 0.0}\n",
      "So Snape was offering to help him? He was definitely offering to help him? {'neg': 0.0, 'neu': 0.565, 'pos': 0.435, 'compound': 0.8156}\n",
      "Late in the afternoon, a few days after New Year, Harry, Ron, and Ginny lined   up   beside   the   kitchen   fire   to  return   to   Hogwarts. {'neg': 0.098, 'neu': 0.902, 'pos': 0.0, 'compound': -0.34}\n",
      "The   next   day   Harry   confided   in   both   Ron   and   Hermione   the   task   that Dumbledore   had   set   him {'neg': 0.0, 'neu': 1.0, 'pos': 0.0, 'compound': 0.0}\n",
      "So, all in all, not one of Ron's better birthdays? said Fred. --- {'neg': 0.0, 'neu': 0.791, 'pos': 0.209, 'compound': 0.4404}\n",
      "Harry   and   Ron   left   the   hospital   wing   first   thing   on   Monday   morning, restored to full health by the ministrations of Madam Pomfrey and now able to enjoy the benefits of having been knocked out and poisoned {'neg': 0.074, 'neu': 0.737, 'pos': 0.189, 'compound': 0.6124}\n",
      "Harry wracked his brains over the next week as to how he was to persuade Slughorn to hand over the true memory {'neg': 0.0, 'neu': 0.769, 'pos': 0.231, 'compound': 0.7184}\n",
      "Patches     of  bright   blue  sky   were  beginning      to  appear    over   the  castle turrets, but these signs of approaching summer did not lift Harry's mood. {'neg': 0.0, 'neu': 0.922, 'pos': 0.078, 'compound': 0.2382}\n",
      "Harry could feel the Felix Felicis wearing off as he creeped back into the castle. {'neg': 0.0, 'neu': 1.0, 'pos': 0.0, 'compound': 0.0}\n",
      "Exhausted       but  delighted    with    his  night's   work,   Harry    told   Ron   and Hermione       everything     that  had   happened     during    next   morning's    Charms  lesson (having first cast the Muffliato spell upon those nearest them). {'neg': 0.046, 'neu': 0.736, 'pos': 0.218, 'compound': 0.8201}\n",
      "The fact that Harry Potter was going out with Ginny Weasley seemed to interest   a   great   number   of   people,   most   of   them   girls,   yet   Harry   found himself   newly   and   happily   impervious  to   gossip   over   the   next   few   weeks.  {'neg': 0.037, 'neu': 0.7, 'pos': 0.263, 'compound': 0.8834}\n",
      "Harry   could   smell   salt   and   hear   rushing   waves;   a   light,   chilly   breeze ruffled his hair as he looked out at moon-lit sea and star-strewn sky. {'neg': 0.0, 'neu': 1.0, 'pos': 0.0, 'compound': 0.0}\n",
      "Once back under the starry sky, Harry heaved Dumbledore on to the top of    the   nearest    boulder    and    then    to  his   feet.  {'neg': 0.0, 'neu': 0.921, 'pos': 0.079, 'compound': 0.2023}\n",
      "Harry     felt  as  though   he   too  were   hurtling    through    space;   it  had  not happened. . . . It could not have happened. {'neg': 0.118, 'neu': 0.882, 'pos': 0.0, 'compound': -0.34}\n",
      "C 'mere, Harry ..No Yeh can' stay here, Harry. ... Come on, now....No. {'neg': 0.0, 'neu': 1.0, 'pos': 0.0, 'compound': 0.0}\n",
      "All   lessons   were   suspended, all   examinations   postponed. Some   students were hurried away from Hogwarts by their parents over the next couple of days the Patil twins were gone before breakfast on the morning following Dumbledore's death and Zacharias Smith was escorted from the castle by his  haughty-looking father. {'neg': 0.164, 'neu': 0.836, 'pos': 0.0, 'compound': -0.8316}\n"
     ]
    }
   ],
   "source": [
    "#sentiment for starting of chapters of book6\n",
    "\n",
    "\n",
    "\n",
    "sentences = [ \"It was nearing midnight and the Prime Minister was sitting alone in his office,   reading   a   long   memo   that   was  slipping   through   his   brain   without leaving the slightest trace of meaning behind.\",\n",
    "\"Many      miles   away    the  chilly  mist   that  had   pressed   against    the  Prime Minister's     windows       drifted   over    a  dirty   river   that   wound      between overgrown, rubbish-strewn banks.\",\n",
    "\"Harry Potter was snoring loudly. He had been sitting in a chair beside his bedroom window for the best part of four hours\",\n",
    "\"Despite the fact that he had spent every waking moment of the past few days hoping desperately that Dumbledore would indeed come to fetch him\",\n",
    "\"Harry and Dumbledore approached the back door of the Burrow, which was   surrounded   by   the   familiar   litter  of   old   Wellington   boots   and   rusty cauldrons\",\n",
    "\"Harry remained within the confines of the Burrow's garden over the next few weeks.\",\n",
    "\"Harry spent a lot of the last week of the holidays pondering the meaning of Malfoy's behavior in Knockturn Alley.\",\n",
    "\"Harry   could   not   move   a   muscle.   He  lay   there   beneath   the   Invisibility Cloak   feeling   the   blood   from   his   nose  flow\",\n",
    "\"Harry and Ron met Hermione in the common room before breakfast next morning.\",\n",
    "\"For or the rest of the week's Potions lessons Harry continued to follow the Half-Blood       Prince's   instructions    wherever      they   deviated    from    Libatius Borage's\",\n",
    "\"As   Hermione   had   predicted,   the   sixth   years'   free   periods   were   not   the hours     of  blissful   relaxation    Ron    had   anticipated\",\n",
    "\"Where was Dumbledore, and what was he doing? Harry caught sight of the headmaster only twice over the next few weeks.\",\n",
    "\"Katie   was   removed   to   St.   Mungo's   Hospital   for   Magical   Maladies   and Injuries the following day, by which time the news that she had been cursed had spread all over the school\",\n",
    "\"Felix Felicis Harry   had   Herbology   first   thing   the      following   morning. \",\n",
    "\"Snow was swirling against the icy windows once more;   Christmas   was approaching   fast.\",\n",
    "\"So Snape was offering to help him? He was definitely offering to help him?\",\n",
    "\"Late in the afternoon, a few days after New Year, Harry, Ron, and Ginny lined   up   beside   the   kitchen   fire   to  return   to   Hogwarts.\",\n",
    "\"The   next   day   Harry   confided   in   both   Ron   and   Hermione   the   task   that Dumbledore   had   set   him\",\n",
    "\"So, all in all, not one of Ron's better birthdays? said Fred. \",\n",
    "\"Harry   and   Ron   left   the   hospital   wing   first   thing   on   Monday   morning, restored to full health by the ministrations of Madam Pomfrey and now able to enjoy the benefits of having been knocked out and poisoned\",\n",
    "\"Harry wracked his brains over the next week as to how he was to persuade Slughorn to hand over the true memory\",\n",
    "\"Patches     of  bright   blue  sky   were  beginning      to  appear    over   the  castle turrets, but these signs of approaching summer did not lift Harry's mood.\",\n",
    "\"Harry could feel the Felix Felicis wearing off as he creeped back into the castle.\",\n",
    "\"Exhausted       but  delighted    with    his  night's   work,   Harry    told   Ron   and Hermione       everything     that  had   happened     during    next   morning's    Charms  lesson (having first cast the Muffliato spell upon those nearest them).\",\n",
    "\"The fact that Harry Potter was going out with Ginny Weasley seemed to interest   a   great   number   of   people,   most   of   them   girls,   yet   Harry   found himself   newly   and   happily   impervious  to   gossip   over   the   next   few   weeks. \",\n",
    "\"Harry   could   smell   salt   and   hear   rushing   waves;   a   light,   chilly   breeze ruffled his hair as he looked out at moon-lit sea and star-strewn sky.\",\n",
    "\"Once back under the starry sky, Harry heaved Dumbledore on to the top of    the   nearest    boulder    and    then    to  his   feet. \",\n",
    "\"Harry     felt  as  though   he   too  were   hurtling    through    space;   it  had  not happened. . . . It could not have happened.\",\n",
    "\"C 'mere, Harry ..No Yeh can' stay here, Harry. ... Come on, now....No.\",\n",
    "\"All   lessons   were   suspended, all   examinations   postponed. Some   students were hurried away from Hogwarts by their parents over the next couple of days the Patil twins were gone before breakfast on the morning following Dumbledore's death and Zacharias Smith was escorted from the castle by his  haughty-looking father.\"\n",
    "    ]\n",
    "\n",
    "analyzer = SentimentIntensityAnalyzer()\n",
    "for sentence in sentences:\n",
    "    vs = analyzer.polarity_scores(sentence)\n",
    "    print(\"{:-<65} {}\".format(sentence, str(vs)))\n",
    "\n",
    "\n"
   ]
  },
  {
   "cell_type": "code",
   "execution_count": 108,
   "metadata": {
    "collapsed": false,
    "scrolled": true
   },
   "outputs": [
    {
     "name": "stdout",
     "output_type": "stream",
     "text": [
      "The two men appeared out of nowhere, a few yards apart in the narrow, moonlit lane.  {'neg': 0.0, 'neu': 1.0, 'pos': 0.0, 'compound': 0.0}\n",
      "Harry was bleeding. Clutching his right hand in his left and swearing under his breath, he shouldered open his bedroom door. {'neg': 0.083, 'neu': 0.785, 'pos': 0.132, 'compound': 0.296}\n",
      "The sound of the front door slamming echoed up the stairs and a voice roared, Oh! You!  {'neg': 0.0, 'neu': 1.0, 'pos': 0.0, 'compound': 0.0}\n",
      "Harry ran back upstairs to his bedroom, arriving at the window just in time to see the Dursleys' car swinging out of the drive and off up the road. {'neg': 0.0, 'neu': 1.0, 'pos': 0.0, 'compound': 0.0}\n",
      "Hagrid? Harry struggled to raise himself out of the debris of metal and leather that surrounded him {'neg': 0.13, 'neu': 0.87, 'pos': 0.0, 'compound': -0.34}\n",
      "The shock of losing Mad-Eye hung over the house in the days that followed {'neg': 0.302, 'neu': 0.698, 'pos': 0.0, 'compound': -0.6369}\n",
      "He was walking along a mountain road in the cool blue light of dawn. Far below, swathed in mist, was the shadow of a small town.  {'neg': 0.0, 'neu': 0.909, 'pos': 0.091, 'compound': 0.3182}\n",
      "Three o'clock on the following afternoon found Harry, Ron, Fred and George standing outside the great white marquee in the orchard, awaiting the arrival of the wedding guests. {'neg': 0.0, 'neu': 0.868, 'pos': 0.132, 'compound': 0.6249}\n",
      "Everything seemed fuzzy, slow. Harry and Hermione jumped to their feet and drew their wands. {'neg': 0.0, 'neu': 1.0, 'pos': 0.0, 'compound': 0.0}\n",
      " Harry woke early next morning, wrapped in a sleeping bag on the drawing room floor. {'neg': 0.0, 'neu': 1.0, 'pos': 0.0, 'compound': 0.0}\n",
      "If Kreacher could escape a lake full of Inferi, Harry was confident that the capture of Mundungus would take a few hours at most, and he prowled the house all morning in a state of high anticipation. {'neg': 0.0, 'neu': 0.831, 'pos': 0.169, 'compound': 0.6486}\n",
      "As August wore on, the square of unkempt grass in the middle of Grimmauld Place shriveled in the sun until it was brittle and brown. {'neg': 0.0, 'neu': 1.0, 'pos': 0.0, 'compound': 0.0}\n",
      "Ah, Mafalda! said Umbridge, looking at Hermione. Travers sent you, did he?  {'neg': 0.0, 'neu': 1.0, 'pos': 0.0, 'compound': 0.0}\n",
      " Harry opened his eyes and was dazzled by gold and green; he had no idea what had happened, he only knew that he was lying on what seemed to be leaves and twigs. {'neg': 0.153, 'neu': 0.847, 'pos': 0.0, 'compound': -0.6808}\n",
      "Early next morning, before the other two were awake, Harry left the tent to search the woods around them for the oldest, most gnarled, and resilient-looking tree he could find. {'neg': 0.0, 'neu': 1.0, 'pos': 0.0, 'compound': 0.0}\n",
      "When Harry woke the following day it was several seconds before he remembered what had happened. {'neg': 0.0, 'neu': 1.0, 'pos': 0.0, 'compound': 0.0}\n",
      "Bathilda's Secret Harry, stop. What's wrong? They had only just reached the grave of the unknown Abbott.  {'neg': 0.354, 'neu': 0.583, 'pos': 0.063, 'compound': -0.7579}\n",
      "The sun was coming up The pure, colorless vastness of the sky stretched over him, indifferent to him and his suffering. Harry sat down in the tent entrance and took a deep breath of clean air. {'neg': 0.124, 'neu': 0.808, 'pos': 0.068, 'compound': -0.296}\n",
      " It was snowing by the time Hermione took over the watch at midnight. {'neg': 0.0, 'neu': 1.0, 'pos': 0.0, 'compound': 0.0}\n",
      "Harry had not expected Hermione's anger to abate over night and was therefore unsurprised that she communicated mainly by dirty looks and pointed silences the next morning. {'neg': 0.094, 'neu': 0.809, 'pos': 0.097, 'compound': 0.0253}\n",
      "Harry turned to look at Ron and Hermione. Neither of them seemed to have understood what Xenophilius had said either. {'neg': 0.0, 'neu': 1.0, 'pos': 0.0, 'compound': 0.0}\n",
      " Harry fell, panting, onto grass and scrambled up at once. They seemed to have landed in the corner of a field at dusk {'neg': 0.0, 'neu': 1.0, 'pos': 0.0, 'compound': 0.0}\n",
      " Harry looked around at the other two, now mere outlines in the darkness. {'neg': 0.143, 'neu': 0.857, 'pos': 0.0, 'compound': -0.25}\n",
      "It was like sinking into an old nightmare; for an instant Harry knelt again beside Dumbledore's body at the foot of the tallest tower at Hogwarts {'neg': 0.0, 'neu': 0.909, 'pos': 0.091, 'compound': 0.3612}\n",
      "Bill and Fleur's cottage stood alone on a cliff overlooking the sea, its walls embedded with shells and whitewashed. {'neg': 0.105, 'neu': 0.895, 'pos': 0.0, 'compound': -0.25}\n",
      " Their plans were made, their preparations complete; in the smallest bedroom a single long {'neg': 0.0, 'neu': 1.0, 'pos': 0.0, 'compound': 0.0}\n",
      "There was no means of steering; the dragon could not see where it was going {'neg': 0.136, 'neu': 0.864, 'pos': 0.0, 'compound': -0.296}\n",
      "Harry's feet touched the road. He saw the achingly familiar Hogsmeade High Street {'neg': 0.0, 'neu': 1.0, 'pos': 0.0, 'compound': 0.0}\n",
      "Neville what the how? But Neville had spotted Ron and Hermione, and with yells of delight was hugging them too. {'neg': 0.0, 'neu': 0.729, 'pos': 0.271, 'compound': 0.7717}\n",
      "The moment her finger touched the Mark, Harry's scar burned savagely, the starry room vanished from sight {'neg': 0.167, 'neu': 0.833, 'pos': 0.0, 'compound': -0.4939}\n",
      "The enchanted ceiling of the Great Hall was dark and scattered with stars, and below it the four long House tables were lined with disheveled students, some in traveling cloaks, others in dressing gowns. {'neg': 0.0, 'neu': 0.827, 'pos': 0.173, 'compound': 0.7717}\n",
      "The world had ended, so why had the battle not ceased, the castle fallen silent in horror, and every combatant laid down their arms?  {'neg': 0.295, 'neu': 0.705, 'pos': 0.0, 'compound': -0.8316}\n",
      "Harry remained kneeling at Snape's side, simply staring down at him, until quite suddenly a high {'neg': 0.0, 'neu': 1.0, 'pos': 0.0, 'compound': 0.0}\n",
      "Finally, the truth. Lying with his face pressed into the dusty carpet of the office where he had once thought he was learning the secrets of victory, Harry understood at last that he was not supposed to survive. {'neg': 0.082, 'neu': 0.863, 'pos': 0.055, 'compound': -0.2732}\n",
      "He lay facedown, listening to the silence. He was perfectly alone. {'neg': 0.132, 'neu': 0.592, 'pos': 0.276, 'compound': 0.4939}\n",
      "He was flying facedown on the grond again. The smell of the forest filled his nostrils. {'neg': 0.0, 'neu': 1.0, 'pos': 0.0, 'compound': 0.0}\n"
     ]
    }
   ],
   "source": [
    "#book6\n",
    "\n",
    "\n",
    "\n",
    "sentences = [ \n",
    "\"The two men appeared out of nowhere, a few yards apart in the narrow, moonlit lane. \",\n",
    "\"Harry was bleeding. Clutching his right hand in his left and swearing under his breath, he shouldered open his bedroom door.\",\n",
    "\"The sound of the front door slamming echoed up the stairs and a voice roared, Oh! You! \",\n",
    "\"Harry ran back upstairs to his bedroom, arriving at the window just in time to see the Dursleys' car swinging out of the drive and off up the road.\",\n",
    "\"Hagrid? Harry struggled to raise himself out of the debris of metal and leather that surrounded him\",\n",
    "\"The shock of losing Mad-Eye hung over the house in the days that followed\",\n",
    "\"He was walking along a mountain road in the cool blue light of dawn. Far below, swathed in mist, was the shadow of a small town. \",\n",
    "\"Three o'clock on the following afternoon found Harry, Ron, Fred and George standing outside the great white marquee in the orchard, awaiting the arrival of the wedding guests.\",\n",
    "\"Everything seemed fuzzy, slow. Harry and Hermione jumped to their feet and drew their wands.\",\n",
    "\" Harry woke early next morning, wrapped in a sleeping bag on the drawing room floor.\",\n",
    "\"If Kreacher could escape a lake full of Inferi, Harry was confident that the capture of Mundungus would take a few hours at most, and he prowled the house all morning in a state of high anticipation.\",\n",
    "\"As August wore on, the square of unkempt grass in the middle of Grimmauld Place shriveled in the sun until it was brittle and brown.\",\n",
    "\"Ah, Mafalda! said Umbridge, looking at Hermione. Travers sent you, did he? \",\n",
    "\" Harry opened his eyes and was dazzled by gold and green; he had no idea what had happened, he only knew that he was lying on what seemed to be leaves and twigs.\",\n",
    "\"Early next morning, before the other two were awake, Harry left the tent to search the woods around them for the oldest, most gnarled, and resilient-looking tree he could find.\",\n",
    "\"When Harry woke the following day it was several seconds before he remembered what had happened.\",\n",
    "\"Bathilda's Secret Harry, stop. What's wrong? They had only just reached the grave of the unknown Abbott. \",\n",
    "\"The sun was coming up The pure, colorless vastness of the sky stretched over him, indifferent to him and his suffering. Harry sat down in the tent entrance and took a deep breath of clean air.\",\n",
    "\" It was snowing by the time Hermione took over the watch at midnight.\",\n",
    "\"Harry had not expected Hermione's anger to abate over night and was therefore unsurprised that she communicated mainly by dirty looks and pointed silences the next morning.\",\n",
    "\"Harry turned to look at Ron and Hermione. Neither of them seemed to have understood what Xenophilius had said either.\",\n",
    "\" Harry fell, panting, onto grass and scrambled up at once. They seemed to have landed in the corner of a field at dusk\",\n",
    "\" Harry looked around at the other two, now mere outlines in the darkness.\",\n",
    "\"It was like sinking into an old nightmare; for an instant Harry knelt again beside Dumbledore's body at the foot of the tallest tower at Hogwarts\",\n",
    "\"Bill and Fleur's cottage stood alone on a cliff overlooking the sea, its walls embedded with shells and whitewashed.\",\n",
    "\" Their plans were made, their preparations complete; in the smallest bedroom a single long\",\n",
    "\"There was no means of steering; the dragon could not see where it was going\",\n",
    "\"Harry's feet touched the road. He saw the achingly familiar Hogsmeade High Street\",\n",
    "\"Neville what the how? But Neville had spotted Ron and Hermione, and with yells of delight was hugging them too.\",\n",
    "\"The moment her finger touched the Mark, Harry's scar burned savagely, the starry room vanished from sight\",\n",
    "\"The enchanted ceiling of the Great Hall was dark and scattered with stars, and below it the four long House tables were lined with disheveled students, some in traveling cloaks, others in dressing gowns.\",\n",
    "\"The world had ended, so why had the battle not ceased, the castle fallen silent in horror, and every combatant laid down their arms? \",\n",
    "\"Harry remained kneeling at Snape's side, simply staring down at him, until quite suddenly a high\",\n",
    "\"Finally, the truth. Lying with his face pressed into the dusty carpet of the office where he had once thought he was learning the secrets of victory, Harry understood at last that he was not supposed to survive.\",\n",
    "\"He lay facedown, listening to the silence. He was perfectly alone.\",\n",
    "\"He was flying facedown on the grond again. The smell of the forest filled his nostrils.\"\n",
    "\n",
    "\n",
    "]\n",
    "\n",
    "analyzer = SentimentIntensityAnalyzer()\n",
    "for sentence in sentences:\n",
    "    vs = analyzer.polarity_scores(sentence)\n",
    "    print(\"{:-<65} {}\".format(sentence, str(vs)))\n"
   ]
  },
  {
   "cell_type": "code",
   "execution_count": 24,
   "metadata": {
    "collapsed": false
   },
   "outputs": [
    {
     "data": {
      "text/plain": [
       "pandas.core.series.Series"
      ]
     },
     "execution_count": 24,
     "metadata": {},
     "output_type": "execute_result"
    }
   ],
   "source": [
    "type(book1['Text'])"
   ]
  }
 ],
 "metadata": {
  "kernelspec": {
   "display_name": "Python 2",
   "language": "python",
   "name": "python2"
  },
  "language_info": {
   "codemirror_mode": {
    "name": "ipython",
    "version": 2
   },
   "file_extension": ".py",
   "mimetype": "text/x-python",
   "name": "python",
   "nbconvert_exporter": "python",
   "pygments_lexer": "ipython2",
   "version": "2.7.11"
  }
 },
 "nbformat": 4,
 "nbformat_minor": 0
}
