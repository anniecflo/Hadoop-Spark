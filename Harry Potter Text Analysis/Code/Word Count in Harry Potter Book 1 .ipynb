{
 "cells": [
  {
   "cell_type": "code",
   "execution_count": 32,
   "metadata": {
    "collapsed": false
   },
   "outputs": [
    {
     "data": {
      "text/plain": [
       "[[u'foo', u'bar'], [u'123', u'456', u'789', u'0']]"
      ]
     },
     "execution_count": 32,
     "metadata": {},
     "output_type": "execute_result"
    }
   ],
   "source": [
    "import re\n",
    "pattern = re.compile(\"\\t+\")\n",
    "\n",
    "rdd = sc.parallelize([\n",
    "    u\"foo\\t\\t\\t\\tbar\",\n",
    "    u\"123\\t\\t\\t456\\t\\t789\\t0\"\n",
    "])\n",
    "\n",
    "rdd.map(lambda x: pattern.split(x)).collect()"
   ]
  },
  {
   "cell_type": "code",
   "execution_count": 111,
   "metadata": {
    "collapsed": false
   },
   "outputs": [],
   "source": [
    "book1 = sc.textFile(\"file:/home/training/Desktop/Harry_Potter/1.Harry Potter and the Sorcerer's Stone.txt\")"
   ]
  },
  {
   "cell_type": "code",
   "execution_count": 112,
   "metadata": {
    "collapsed": false
   },
   "outputs": [],
   "source": [
    "book1 = book1.map(lambda line:line.split(\" \"))"
   ]
  },
  {
   "cell_type": "code",
   "execution_count": 347,
   "metadata": {
    "collapsed": false,
    "scrolled": true
   },
   "outputs": [
    {
     "data": {
      "text/plain": [
       "[[u'CHAPTER', u'ONE'], [u'THE', u'BOY', u'WHO', u'LIVED']]"
      ]
     },
     "execution_count": 347,
     "metadata": {},
     "output_type": "execute_result"
    }
   ],
   "source": [
    "book1.take(2)"
   ]
  },
  {
   "cell_type": "code",
   "execution_count": 117,
   "metadata": {
    "collapsed": false,
    "scrolled": true
   },
   "outputs": [
    {
     "name": "stdout",
     "output_type": "stream",
     "text": [
      "CHAPTER ONE\n",
      "THE BOY WHO LIVED\n",
      "Mr. and Mrs. Dursley, of number four, Privet Drive, were proud to say that they were perfectly normal, thank you very much. They were the last people you'd expect to be involved in anything strange or mysterious, because they just didn't hold with such nonsense.\n",
      "Mr. Dursley was the director of a firm called Grunnings, which made drills. He was a big, beefy man with hardly any neck, although he did have a very large mustache. Mrs. Dursley was thin and blonde and had nearly twice the usual amount of neck, which came in very useful as she spent so much of her time craning over garden fences, spying on the neighbors. The Dursleys had a small son called Dudley and in their opinion there was no finer boy anywhere.\n",
      "The Dursleys had everything they wanted, but they also had a secret, and their greatest fear was that somebody would discover it. They didn't think they could bear it if anyone found out about the Potters. Mrs. Potter was Mrs. Dursley's sister, but they hadn't met for several years; in fact, Mrs. Dursley pretended she didn't have a sister, because her sister and her good-for-nothing husband were as unDursleyish as it was possible to be. The Dursleys shuddered to think what the neighbors would say if the Potters arrived in the street. The Dursleys knew that the Potters had a small son, too, but they had never even seen him. This boy was another good reason for keeping the Potters away; they didn't want Dudley mixing with a child like that.\n"
     ]
    }
   ],
   "source": [
    "# join the text\n",
    "\n",
    "for r in book1.take(5):\n",
    "    print \" \".join(r)"
   ]
  },
  {
   "cell_type": "code",
   "execution_count": 115,
   "metadata": {
    "collapsed": false
   },
   "outputs": [
    {
     "data": {
      "text/plain": [
       "3047"
      ]
     },
     "execution_count": 115,
     "metadata": {},
     "output_type": "execute_result"
    }
   ],
   "source": [
    "#total book1 word count\n",
    "book1.count()"
   ]
  },
  {
   "cell_type": "code",
   "execution_count": 116,
   "metadata": {
    "collapsed": false
   },
   "outputs": [
    {
     "data": {
      "text/plain": [
       "849"
      ]
     },
     "execution_count": 116,
     "metadata": {},
     "output_type": "execute_result"
    }
   ],
   "source": [
    "#total book1 distinct word count\n",
    "book1.map(lambda r:r[0]).distinct().count()"
   ]
  },
  {
   "cell_type": "code",
   "execution_count": 64,
   "metadata": {
    "collapsed": false
   },
   "outputs": [],
   "source": [
    "#filter sentence starting with Harry\n",
    "harry = sc.textFile(\"file:/home/training/Desktop/Harry_Potter/1.Harry Potter and the Sorcerer's Stone.txt\").filter(lambda line: line.startswith('Harry'))"
   ]
  },
  {
   "cell_type": "code",
   "execution_count": 70,
   "metadata": {
    "collapsed": false
   },
   "outputs": [
    {
     "data": {
      "text/plain": [
       "[u'Harry woke with a start. His aunt rapped on the door again.',\n",
       " u'Harry groaned.',\n",
       " u'Harry was frying eggs by the time Dudley arrived in the kitchen with his mother. Dudley looked a lot like Uncle Vernon. He had a large pink face, not much neck, small, watery blue eyes, and thick blond hair that lay smoothly on his thick, fat head. Aunt Petunia often said that Dudley looked like a baby angel -- Harry often said that Dudley looked like a pig in a wig.',\n",
       " u\"Harry put the plates of egg and bacon on the table, which was difficult as there wasn't much room. Dudley, meanwhile, was counting his presents. His face fell.\",\n",
       " u\"Harry had the best morning he'd had in a long time. He was careful to walk a little way apart from the Dursleys so that Dudley and Piers, who were starting to get bored with the animals by lunchtime, wouldn't fall back on their favorite hobby of hitting him. They ate in the zoo restaurant, and when Dudley had a tantrum because his knickerbocker glory didn't have enough ice cream on top, Uncle Vernon bought him another one and Harry was allowed to finish the first.\"]"
      ]
     },
     "execution_count": 70,
     "metadata": {},
     "output_type": "execute_result"
    }
   ],
   "source": [
    "harry.take(5)"
   ]
  },
  {
   "cell_type": "code",
   "execution_count": 120,
   "metadata": {
    "collapsed": false
   },
   "outputs": [],
   "source": [
    "#print distinct words and flatten them\n",
    "book1_flatmap = sc.textFile(\"file:/home/training/Desktop/Harry_Potter/1.Harry Potter and the Sorcerer's Stone.txt\").flatMap(lambda line: line.split()).distinct()"
   ]
  },
  {
   "cell_type": "code",
   "execution_count": 121,
   "metadata": {
    "collapsed": false
   },
   "outputs": [
    {
     "data": {
      "text/plain": [
       "[u'\"--and',\n",
       " u'ready!\"',\n",
       " u'shouted,',\n",
       " u'wrought-iron',\n",
       " u'shouted.',\n",
       " u'yellow',\n",
       " u'four',\n",
       " u'Does',\n",
       " u'unwrapped.',\n",
       " u'spiders',\n",
       " u'hanging',\n",
       " u'clearing.',\n",
       " u'screaming.',\n",
       " u'Until',\n",
       " u'fiddling',\n",
       " u'wand.\"',\n",
       " u'\"howling',\n",
       " u'wizardry',\n",
       " u'cake,',\n",
       " u'Ronald']"
      ]
     },
     "execution_count": 121,
     "metadata": {},
     "output_type": "execute_result"
    }
   ],
   "source": [
    "book1_flatmap.take(20)"
   ]
  },
  {
   "cell_type": "code",
   "execution_count": 80,
   "metadata": {
    "collapsed": false
   },
   "outputs": [
    {
     "data": {
      "text/plain": [
       "11897"
      ]
     },
     "execution_count": 80,
     "metadata": {},
     "output_type": "execute_result"
    }
   ],
   "source": [
    "#count distinct words in book 1\n",
    "sc.textFile(\"file:/home/training/Desktop/Harry_Potter/1.Harry Potter and the Sorcerer's Stone.txt\").flatMap(lambda line: line.split()).distinct().count()"
   ]
  },
  {
   "cell_type": "code",
   "execution_count": 127,
   "metadata": {
    "collapsed": false
   },
   "outputs": [
    {
     "name": "stdout",
     "output_type": "stream",
     "text": [
      "the elephants 4 cats\n"
     ]
    }
   ],
   "source": [
    "#** apply lower() and remove punctuation **\n",
    "import re\n",
    "def removePunctuation(text):\n",
    "    \"\"\"Removes punctuation, changes to lowercase, and strips leading and trailing spaces.\n",
    "    Note:\n",
    "        Only spaces, letters, and numbers should be retained.  Other characters should should be\n",
    "        eliminated. (e.g. it's becomes its)\n",
    "    Args:\n",
    "        text (str): A string.\n",
    "    Returns:\n",
    "        str: The cleaned up string.\n",
    "    \"\"\"\n",
    "    return re.sub('[^a-z| |0-9]', '', text.strip().lower())\n",
    "print removePunctuation(\"The Elephant's 4 cats. \")"
   ]
  },
  {
   "cell_type": "code",
   "execution_count": 197,
   "metadata": {
    "collapsed": false
   },
   "outputs": [
    {
     "name": "stdout",
     "output_type": "stream",
     "text": [
      "[u'chapter', u'one', u'the', u'boy', u'who']\n",
      "[(u'chapter', 1), (u'one', 1), (u'the', 1), (u'boy', 1), (u'who', 1)]\n"
     ]
    }
   ],
   "source": [
    "#count frequency of words in book 1\n",
    "book1words = sc.textFile(\"file:/home/training/Desktop/Harry_Potter/1.Harry Potter and the Sorcerer's Stone.txt\").flatMap(lambda line: line.strip().split(\" \")).filter(lambda x: x != '')\n",
    "#apply punctuaion & lower function\n",
    "book1words = book1words.map(removePunctuation)\n",
    "#remove punctuation\n",
    "print book1words.take(5)\n",
    "\n",
    "#map to key-value pair\n",
    "book1words_1 = book1words.map(lambda word : (word,1))\n",
    "print book1words_1.take(5)\n"
   ]
  },
  {
   "cell_type": "code",
   "execution_count": 150,
   "metadata": {
    "collapsed": false
   },
   "outputs": [
    {
     "name": "stdout",
     "output_type": "stream",
     "text": [
      "[(u'', 852), (u'both', 32), (u'foul', 4), (u'four', 32), (u'woods', 7)]\n"
     ]
    }
   ],
   "source": [
    "#reduceByKey() operates by applying the function first within each partition on a per-key basis and then across the partitions, allowing it to scale efficiently to large datasets.\n",
    "book1words_1_agg = book1words_1.reduceByKey(lambda a,b : a+b)\n",
    "print book1words_1_agg.take(5)"
   ]
  },
  {
   "cell_type": "code",
   "execution_count": null,
   "metadata": {
    "collapsed": true
   },
   "outputs": [],
   "source": [
    "#remove stopwords\n",
    "#book1words_1_agg_remove_stopwords = book1words_1_agg(lambda x : x not in )\n",
    "#print book1words_1_agg.take(5)"
   ]
  },
  {
   "cell_type": "code",
   "execution_count": 151,
   "metadata": {
    "collapsed": false,
    "scrolled": true
   },
   "outputs": [
    {
     "name": "stdout",
     "output_type": "stream",
     "text": [
      "[(3627, u'the'), (1918, u'and'), (1856, u'to'), (1688, u'a'), (1527, u'he'), (1259, u'of'), (1213, u'harry'), (1186, u'was'), (1026, u'it'), (965, u'in'), (937, u'his'), (863, u'you'), (852, u''), (794, u'said'), (702, u'had'), (652, u'i'), (636, u'on'), (625, u'at'), (601, u'that'), (597, u'they'), (526, u'as'), (501, u'him'), (483, u'but'), (416, u'with'), (410, u'ron'), (397, u'all'), (372, u'out'), (369, u'for'), (368, u'up'), (367, u'be'), (342, u'what'), (341, u'were'), (336, u'hagrid'), (325, u'them'), (297, u'have'), (269, u'there'), (261, u'back'), (257, u'hermione'), (255, u'one'), (249, u'this'), (245, u'if'), (241, u'from'), (238, u'so'), (235, u'its'), (234, u'not'), (229, u'she'), (223, u'about'), (219, u'an'), (219, u'into'), (217, u'me'), (217, u'their'), (211, u'been'), (201, u'off'), (198, u'got'), (196, u'no'), (195, u'could'), (195, u'didnt'), (194, u'get'), (194, u'like'), (188, u'know'), (180, u'professor'), (180, u'see'), (180, u'just'), (180, u'down'), (179, u'her'), (177, u'when'), (175, u'is'), (172, u'very'), (171, u'over'), (169, u'looked'), (168, u'do'), (166, u'now'), (165, u'then'), (160, u'who'), (158, u'are'), (152, u'we'), (150, u'by'), (148, u'your'), (145, u'snape'), (145, u'dont'), (143, u'dumbledore'), (142, u'around'), (138, u'hed'), (138, u'well'), (135, u'how'), (135, u'going'), (134, u'go'), (129, u'something'), (126, u'never'), (126, u'look'), (125, u'right'), (125, u'through'), (123, u'think'), (121, u'im'), (121, u'uncle'), (119, u'time'), (116, u'dudley'), (113, u'harrys'), (112, u'here'), (111, u'only')]\n"
     ]
    }
   ],
   "source": [
    "#order by key (swap key & value first)\n",
    "book1words_1_agg_order = book1words_1_agg.map(lambda (a,b): (b,a)).sortByKey(ascending=False)\n",
    "print book1words_1_agg_order.take(100)"
   ]
  },
  {
   "cell_type": "code",
   "execution_count": 222,
   "metadata": {
    "collapsed": false
   },
   "outputs": [
    {
     "name": "stdout",
     "output_type": "stream",
     "text": [
      "78444\n",
      "6037\n"
     ]
    }
   ],
   "source": [
    "# count all words & distinct words\n",
    "print book1words.count()\n",
    "print book1words.distinct().count()"
   ]
  },
  {
   "cell_type": "code",
   "execution_count": 122,
   "metadata": {
    "collapsed": true
   },
   "outputs": [],
   "source": [
    "#define wordcount function\n",
    "def wordCount(wordListRDD):\n",
    "    \"\"\"Creates a pair RDD with word counts from an RDD of words.\n",
    "    Args:\n",
    "        wordListRDD (RDD of str): An RDD consisting of words.\n",
    "    Returns:\n",
    "        RDD of (str, int): An RDD consisting of (word, count) tuples.\n",
    "    \"\"\"\n",
    "    return (wordListRDD.map(lambda x: (x,1)).reduceByKey(lambda x, y: x+y))\n",
    "\n",
    "#print wordCount(wordsRDD).collect()"
   ]
  },
  {
   "cell_type": "code",
   "execution_count": 225,
   "metadata": {
    "collapsed": false
   },
   "outputs": [],
   "source": [
    "from pyspark import SparkConf, SparkContext\n",
    "from pyspark import sql\n",
    "sqlContext = sql.SQLContext(sc)"
   ]
  },
  {
   "cell_type": "code",
   "execution_count": 232,
   "metadata": {
    "collapsed": false
   },
   "outputs": [],
   "source": [
    "#! sudo pip install pandas\n",
    "import pandas as pd\n",
    "#import \n",
    "# $example on$\n",
    "#from pyspark.ml.feature import NGram\n",
    "# $example off$\n",
    "#from pyspark.sql import SparkSession"
   ]
  },
  {
   "cell_type": "code",
   "execution_count": 238,
   "metadata": {
    "collapsed": false
   },
   "outputs": [],
   "source": [
    "#count specific words - turn to dataframe\n",
    "book1df = pd.DataFrame(book1words_1_agg.collect())"
   ]
  },
  {
   "cell_type": "code",
   "execution_count": 242,
   "metadata": {
    "collapsed": false
   },
   "outputs": [
    {
     "data": {
      "text/html": [
       "<div>\n",
       "<table border=\"1\" class=\"dataframe\">\n",
       "  <thead>\n",
       "    <tr style=\"text-align: right;\">\n",
       "      <th></th>\n",
       "      <th>word</th>\n",
       "      <th>count</th>\n",
       "    </tr>\n",
       "  </thead>\n",
       "  <tbody>\n",
       "    <tr>\n",
       "      <th>0</th>\n",
       "      <td></td>\n",
       "      <td>852</td>\n",
       "    </tr>\n",
       "    <tr>\n",
       "      <th>1</th>\n",
       "      <td>both</td>\n",
       "      <td>32</td>\n",
       "    </tr>\n",
       "    <tr>\n",
       "      <th>2</th>\n",
       "      <td>foul</td>\n",
       "      <td>4</td>\n",
       "    </tr>\n",
       "    <tr>\n",
       "      <th>3</th>\n",
       "      <td>four</td>\n",
       "      <td>32</td>\n",
       "    </tr>\n",
       "    <tr>\n",
       "      <th>4</th>\n",
       "      <td>woods</td>\n",
       "      <td>7</td>\n",
       "    </tr>\n",
       "  </tbody>\n",
       "</table>\n",
       "</div>"
      ],
      "text/plain": [
       "    word  count\n",
       "0           852\n",
       "1   both     32\n",
       "2   foul      4\n",
       "3   four     32\n",
       "4  woods      7"
      ]
     },
     "execution_count": 242,
     "metadata": {},
     "output_type": "execute_result"
    }
   ],
   "source": [
    "#count - name columns\n",
    "book1df.columns = ['word','count']\n",
    "book1df.head()\n"
   ]
  },
  {
   "cell_type": "code",
   "execution_count": 313,
   "metadata": {
    "collapsed": false
   },
   "outputs": [],
   "source": [
    "#print book1df[['word','count']].reset_index().drop('index', 1).sort('count', ascending = False)"
   ]
  },
  {
   "cell_type": "code",
   "execution_count": 350,
   "metadata": {
    "collapsed": false
   },
   "outputs": [
    {
     "name": "stdout",
     "output_type": "stream",
     "text": [
      "            word  count\n",
      "440        snape    145\n",
      "623    voldemort     31\n",
      "765        harry   1213\n",
      "1248    hogwarts     79\n",
      "1348  dumbledore    143\n",
      "2279    hermione    257\n",
      "2525      malfoy    109\n",
      "4897         ron    410\n",
      "5728      hagrid    336\n"
     ]
    }
   ],
   "source": [
    "#book 1\n",
    "print book1df[(book1df['word'] == ('harry')) | (book1df['word'] =='ron')|(book1df['word']=='hermione') \\\n",
    "              | (book1df['word']=='hagrid')|(book1df['word']=='malfoy') | (book1df['word']=='snape') \\\n",
    "              |(book1df['word']=='dumbledore') | (book1df['word']== 'voldemort') | (book1df['word']=='hogwarts')\\\n",
    "              | (book1df['word']=='azkaban') |(book1df['word']=='accio') | (book1df['word']== 'expelliarmus')\\\n",
    "              |(book1df['word']== 'stupefy') | (book1df['word']== 'lumos') |(book1df['word']== 'imperio')\\\n",
    "              | (book1df['word']== 'crucio') |(book1df['word']== 'avada') | (book1df['word']== 'kedavra')]\n"
   ]
  },
  {
   "cell_type": "code",
   "execution_count": 253,
   "metadata": {
    "collapsed": true
   },
   "outputs": [],
   "source": [
    "#use sqlcontext to create the same DataFrame\n",
    "sfpdDF = sqlContext.createDataFrame(book1words_1_agg, [\"word\", \"count\"])"
   ]
  },
  {
   "cell_type": "code",
   "execution_count": 254,
   "metadata": {
    "collapsed": false
   },
   "outputs": [
    {
     "name": "stdout",
     "output_type": "stream",
     "text": [
      "root\n",
      " |-- word: string (nullable = true)\n",
      " |-- count: long (nullable = true)\n",
      "\n",
      "word      count\n",
      "          852  \n",
      "both      32   \n",
      "foul      4    \n",
      "four      32   \n",
      "woods     7    \n",
      "spiders   2    \n",
      "ornate    1    \n",
      "wizardry  6    \n",
      "lord      4    \n",
      "flicking  1    \n",
      "sinking   2    \n",
      "figg      5    \n",
      "yellow    5    \n",
      "bringing  5    \n",
      "disturb   2    \n",
      "basics    1    \n",
      "wooden    8    \n",
      "wednesday 3    \n",
      "specially 1    \n",
      "tired     6    \n",
      "hanging   12   \n",
      "bacon     7    \n",
      "second    43   \n",
      "crisply   1    \n",
      "sailed    2    \n",
      "scraped   1    \n",
      "thunder   1    \n",
      "fingers   14   \n",
      "pawed     2    \n",
      "galleons  4    \n"
     ]
    }
   ],
   "source": [
    "sfpdDF.printSchema()\n",
    "sfpdDF.show(30)"
   ]
  },
  {
   "cell_type": "code",
   "execution_count": 349,
   "metadata": {
    "collapsed": false
   },
   "outputs": [
    {
     "name": "stdout",
     "output_type": "stream",
     "text": [
      "word  count\n",
      "harry 1213 \n"
     ]
    }
   ],
   "source": [
    "#count harry\n",
    "descDF = sfpdDF.filter(sfpdDF.word =='harry')\n",
    "descDF.show()"
   ]
  },
  {
   "cell_type": "code",
   "execution_count": null,
   "metadata": {
    "collapsed": true
   },
   "outputs": [],
   "source": []
  }
 ],
 "metadata": {
  "kernelspec": {
   "display_name": "Python 2",
   "language": "python",
   "name": "python2"
  },
  "language_info": {
   "codemirror_mode": {
    "name": "ipython",
    "version": 2
   },
   "file_extension": ".py",
   "mimetype": "text/x-python",
   "name": "python",
   "nbconvert_exporter": "python",
   "pygments_lexer": "ipython2",
   "version": "2.7.11"
  }
 },
 "nbformat": 4,
 "nbformat_minor": 0
}
